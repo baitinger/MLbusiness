{
 "cells": [
  {
   "cell_type": "markdown",
   "id": "8f77bab2",
   "metadata": {},
   "source": [
    "## Загрузка данных и предобработка:"
   ]
  },
  {
   "cell_type": "code",
   "execution_count": 1,
   "id": "dd9282b5",
   "metadata": {},
   "outputs": [],
   "source": [
    "import pandas as pd\n",
    "import numpy as np\n",
    "import time\n",
    "from sklearn.model_selection import train_test_split\n",
    "import warnings\n",
    "warnings.filterwarnings('ignore')"
   ]
  },
  {
   "cell_type": "code",
   "execution_count": 2,
   "id": "84b9c2be",
   "metadata": {},
   "outputs": [],
   "source": [
    "data = pd.read_csv('data.csv')"
   ]
  },
  {
   "cell_type": "code",
   "execution_count": 3,
   "id": "eed5108d",
   "metadata": {},
   "outputs": [
    {
     "data": {
      "text/html": [
       "<div>\n",
       "<style scoped>\n",
       "    .dataframe tbody tr th:only-of-type {\n",
       "        vertical-align: middle;\n",
       "    }\n",
       "\n",
       "    .dataframe tbody tr th {\n",
       "        vertical-align: top;\n",
       "    }\n",
       "\n",
       "    .dataframe thead th {\n",
       "        text-align: right;\n",
       "    }\n",
       "</style>\n",
       "<table border=\"1\" class=\"dataframe\">\n",
       "  <thead>\n",
       "    <tr style=\"text-align: right;\">\n",
       "      <th></th>\n",
       "      <th>recency</th>\n",
       "      <th>history</th>\n",
       "      <th>used_discount</th>\n",
       "      <th>used_bogo</th>\n",
       "      <th>zip_code</th>\n",
       "      <th>is_referral</th>\n",
       "      <th>channel</th>\n",
       "      <th>offer</th>\n",
       "      <th>conversion</th>\n",
       "    </tr>\n",
       "  </thead>\n",
       "  <tbody>\n",
       "    <tr>\n",
       "      <th>0</th>\n",
       "      <td>10</td>\n",
       "      <td>142.44</td>\n",
       "      <td>1</td>\n",
       "      <td>0</td>\n",
       "      <td>Surburban</td>\n",
       "      <td>0</td>\n",
       "      <td>Phone</td>\n",
       "      <td>Buy One Get One</td>\n",
       "      <td>0</td>\n",
       "    </tr>\n",
       "    <tr>\n",
       "      <th>1</th>\n",
       "      <td>6</td>\n",
       "      <td>329.08</td>\n",
       "      <td>1</td>\n",
       "      <td>1</td>\n",
       "      <td>Rural</td>\n",
       "      <td>1</td>\n",
       "      <td>Web</td>\n",
       "      <td>No Offer</td>\n",
       "      <td>0</td>\n",
       "    </tr>\n",
       "    <tr>\n",
       "      <th>2</th>\n",
       "      <td>7</td>\n",
       "      <td>180.65</td>\n",
       "      <td>0</td>\n",
       "      <td>1</td>\n",
       "      <td>Surburban</td>\n",
       "      <td>1</td>\n",
       "      <td>Web</td>\n",
       "      <td>Buy One Get One</td>\n",
       "      <td>0</td>\n",
       "    </tr>\n",
       "    <tr>\n",
       "      <th>3</th>\n",
       "      <td>9</td>\n",
       "      <td>675.83</td>\n",
       "      <td>1</td>\n",
       "      <td>0</td>\n",
       "      <td>Rural</td>\n",
       "      <td>1</td>\n",
       "      <td>Web</td>\n",
       "      <td>Discount</td>\n",
       "      <td>0</td>\n",
       "    </tr>\n",
       "    <tr>\n",
       "      <th>4</th>\n",
       "      <td>2</td>\n",
       "      <td>45.34</td>\n",
       "      <td>1</td>\n",
       "      <td>0</td>\n",
       "      <td>Urban</td>\n",
       "      <td>0</td>\n",
       "      <td>Web</td>\n",
       "      <td>Buy One Get One</td>\n",
       "      <td>0</td>\n",
       "    </tr>\n",
       "  </tbody>\n",
       "</table>\n",
       "</div>"
      ],
      "text/plain": [
       "   recency  history  used_discount  used_bogo   zip_code  is_referral channel  \\\n",
       "0       10   142.44              1          0  Surburban            0   Phone   \n",
       "1        6   329.08              1          1      Rural            1     Web   \n",
       "2        7   180.65              0          1  Surburban            1     Web   \n",
       "3        9   675.83              1          0      Rural            1     Web   \n",
       "4        2    45.34              1          0      Urban            0     Web   \n",
       "\n",
       "             offer  conversion  \n",
       "0  Buy One Get One           0  \n",
       "1         No Offer           0  \n",
       "2  Buy One Get One           0  \n",
       "3         Discount           0  \n",
       "4  Buy One Get One           0  "
      ]
     },
     "execution_count": 3,
     "metadata": {},
     "output_type": "execute_result"
    }
   ],
   "source": [
    "data.head()"
   ]
  },
  {
   "cell_type": "code",
   "execution_count": 4,
   "id": "4b4f6aad",
   "metadata": {},
   "outputs": [],
   "source": [
    "data.rename(columns={'offer': 'treatment', 'conversion': 'target'}, inplace=True)"
   ]
  },
  {
   "cell_type": "code",
   "execution_count": 5,
   "id": "b3a231a5",
   "metadata": {},
   "outputs": [],
   "source": [
    "data ['treatment'] = data['treatment'].replace({'Buy One Get One': 1, 'Discount': 1, 'No Offer': 0})"
   ]
  },
  {
   "cell_type": "code",
   "execution_count": 6,
   "id": "5a3ab6f1",
   "metadata": {},
   "outputs": [],
   "source": [
    "categories = ['zip_code', 'channel']"
   ]
  },
  {
   "cell_type": "code",
   "execution_count": 7,
   "id": "0580834f",
   "metadata": {},
   "outputs": [],
   "source": [
    "X = data.drop(columns=['target', 'treatment'])\n",
    "y = data['target']\n",
    "treatment = data['treatment']"
   ]
  },
  {
   "cell_type": "code",
   "execution_count": 8,
   "id": "be458aaa",
   "metadata": {
    "scrolled": true
   },
   "outputs": [],
   "source": [
    "X_train, X_test, treat_train, y_test, y_train, treat_test = train_test_split(X, y, treatment, random_state=30, test_size=0.3)"
   ]
  },
  {
   "cell_type": "code",
   "execution_count": 9,
   "id": "b3977bca",
   "metadata": {},
   "outputs": [],
   "source": [
    "from sklearn.preprocessing import MinMaxScaler\n",
    "Scaler = MinMaxScaler()"
   ]
  },
  {
   "cell_type": "code",
   "execution_count": 10,
   "id": "df2d2d63",
   "metadata": {},
   "outputs": [],
   "source": [
    "to_standardize = ['recency', 'history']"
   ]
  },
  {
   "cell_type": "code",
   "execution_count": 11,
   "id": "5ef58a59",
   "metadata": {},
   "outputs": [],
   "source": [
    "X_train[to_standardize] = Scaler.fit_transform(X_train[to_standardize])\n",
    "X_test[to_standardize] = Scaler.transform(X_test[to_standardize])"
   ]
  },
  {
   "cell_type": "markdown",
   "id": "85fb893e",
   "metadata": {},
   "source": [
    "## SoloModel:"
   ]
  },
  {
   "cell_type": "code",
   "execution_count": 12,
   "id": "830fcadc",
   "metadata": {},
   "outputs": [],
   "source": [
    "from sklift.metrics import uplift_at_k\n",
    "from sklift.viz import plot_uplift_preds\n",
    "from sklift.models import SoloModel\n",
    "from catboost import CatBoostClassifier"
   ]
  },
  {
   "cell_type": "code",
   "execution_count": 13,
   "id": "1e873258",
   "metadata": {
    "scrolled": false
   },
   "outputs": [
    {
     "name": "stdout",
     "output_type": "stream",
     "text": [
      "uplift@10%: 0.0677\n",
      "uplift@20%: 0.0678\n"
     ]
    },
    {
     "data": {
      "image/png": "[encoded data removed]",
      "text/plain": [
       "<Figure size 1440x504 with 3 Axes>"
      ]
     },
     "metadata": {
      "needs_background": "light"
     },
     "output_type": "display_data"
    }
   ],
   "source": [
    "models_results = {\n",
    "    'approach': [],\n",
    "    'uplift@10%': [],\n",
    "    'uplift@20%': []\n",
    "}\n",
    "\n",
    "sm = SoloModel(CatBoostClassifier(iterations=20, thread_count=2, random_state=42, silent=True))\n",
    "sm = sm.fit(X_train, y_train, treat_train, estimator_fit_params={'cat_features': categories})\n",
    "\n",
    "uplift_sm = sm.predict(X_test)\n",
    "\n",
    "sm_score_10 = uplift_at_k(y_true=y_test, uplift=uplift_sm, treatment=treat_test, strategy='by_group', k=0.1)\n",
    "sm_score_20 = uplift_at_k(y_true=y_test, uplift=uplift_sm, treatment=treat_test, strategy='by_group', k=0.2)\n",
    "print(f'uplift@10%: {sm_score_10:.4f}\\nuplift@20%: {sm_score_20:.4f}')\n",
    "\n",
    "models_results['approach'].append('SoloModel')\n",
    "models_results['uplift@10%'].append(sm_score_10)\n",
    "models_results['uplift@20%'].append(sm_score_20)\n",
    "\n",
    "# Получим условные вероятности выполнения целевого действия при взаимодействии для каждого объекта\n",
    "sm_trmnt_preds = sm.trmnt_preds_\n",
    "# И условные вероятности выполнения целевого действия без взаимодействия для каждого объекта\n",
    "sm_ctrl_preds = sm.ctrl_preds_\n",
    "\n",
    "# Отрисуем распределения вероятностей и их разность (uplift)\n",
    "plot_uplift_preds(trmnt_preds=sm_trmnt_preds, ctrl_preds=sm_ctrl_preds);"
   ]
  },
  {
   "cell_type": "markdown",
   "id": "551d15e6",
   "metadata": {},
   "source": [
    "## Transformation Model:"
   ]
  },
  {
   "cell_type": "code",
   "execution_count": 14,
   "id": "3973e9b8",
   "metadata": {},
   "outputs": [],
   "source": [
    "from sklift.models import ClassTransformation\n",
    "\n",
    "ct = ClassTransformation(CatBoostClassifier(iterations=20, thread_count=2, random_state=42, silent=True))\n",
    "ct = ct.fit(X_train, y_train, treat_train, estimator_fit_params={'cat_features': categories})\n",
    "\n",
    "uplift_ct = ct.predict(X_test)\n",
    "\n",
    "ct_score_10 = uplift_at_k(y_true=y_test, uplift=uplift_ct, treatment=treat_test, strategy='by_group', k=0.1)\n",
    "ct_score_20 = uplift_at_k(y_true=y_test, uplift=uplift_ct, treatment=treat_test, strategy='by_group', k=0.2)\n",
    "\n",
    "models_results['approach'].append('ClassTransformation')\n",
    "models_results['uplift@10%'].append(ct_score_10)\n",
    "models_results['uplift@20%'].append(ct_score_20)"
   ]
  },
  {
   "cell_type": "markdown",
   "id": "dddbafbd",
   "metadata": {},
   "source": [
    "## Two Models:"
   ]
  },
  {
   "cell_type": "code",
   "execution_count": 15,
   "id": "290e9da4",
   "metadata": {
    "scrolled": false
   },
   "outputs": [
    {
     "data": {
      "image/png": "[encoded data removed]",
      "text/plain": [
       "<Figure size 1440x504 with 3 Axes>"
      ]
     },
     "metadata": {
      "needs_background": "light"
     },
     "output_type": "display_data"
    }
   ],
   "source": [
    "from sklift.models import TwoModels\n",
    "\n",
    "tm = TwoModels(\n",
    "    estimator_trmnt=CatBoostClassifier(iterations=20, thread_count=2, random_state=42, silent=True), \n",
    "    estimator_ctrl=CatBoostClassifier(iterations=20, thread_count=2, random_state=42, silent=True), \n",
    "    method='vanilla'\n",
    ")\n",
    "tm = tm.fit(\n",
    "    X_train, y_train, treat_train,\n",
    "    estimator_trmnt_fit_params={'cat_features': categories}, \n",
    "    estimator_ctrl_fit_params={'cat_features': categories}\n",
    ")\n",
    "\n",
    "uplift_tm = tm.predict(X_test)\n",
    "\n",
    "tm_score_10 = uplift_at_k(y_true=y_test, uplift=uplift_tm, treatment=treat_test, strategy='by_group', k=0.1)\n",
    "tm_score_20 = uplift_at_k(y_true=y_test, uplift=uplift_tm, treatment=treat_test, strategy='by_group', k=0.2)\n",
    "\n",
    "models_results['approach'].append('TwoModels')\n",
    "models_results['uplift@10%'].append(tm_score_10)\n",
    "models_results['uplift@20%'].append(tm_score_20)\n",
    "\n",
    "plot_uplift_preds(trmnt_preds=tm.trmnt_preds_, ctrl_preds=tm.ctrl_preds_);"
   ]
  },
  {
   "cell_type": "markdown",
   "id": "6a712e7a",
   "metadata": {},
   "source": [
    "## Сравнение трех моделей:"
   ]
  },
  {
   "cell_type": "code",
   "execution_count": 16,
   "id": "a16d8443",
   "metadata": {
    "scrolled": false
   },
   "outputs": [
    {
     "data": {
      "text/html": [
       "<div>\n",
       "<style scoped>\n",
       "    .dataframe tbody tr th:only-of-type {\n",
       "        vertical-align: middle;\n",
       "    }\n",
       "\n",
       "    .dataframe tbody tr th {\n",
       "        vertical-align: top;\n",
       "    }\n",
       "\n",
       "    .dataframe thead th {\n",
       "        text-align: right;\n",
       "    }\n",
       "</style>\n",
       "<table border=\"1\" class=\"dataframe\">\n",
       "  <thead>\n",
       "    <tr style=\"text-align: right;\">\n",
       "      <th></th>\n",
       "      <th>approach</th>\n",
       "      <th>uplift@10%</th>\n",
       "      <th>uplift@20%</th>\n",
       "    </tr>\n",
       "  </thead>\n",
       "  <tbody>\n",
       "    <tr>\n",
       "      <th>1</th>\n",
       "      <td>ClassTransformation</td>\n",
       "      <td>0.092180</td>\n",
       "      <td>0.080680</td>\n",
       "    </tr>\n",
       "    <tr>\n",
       "      <th>0</th>\n",
       "      <td>SoloModel</td>\n",
       "      <td>0.067744</td>\n",
       "      <td>0.067752</td>\n",
       "    </tr>\n",
       "    <tr>\n",
       "      <th>2</th>\n",
       "      <td>TwoModels</td>\n",
       "      <td>0.041172</td>\n",
       "      <td>0.054059</td>\n",
       "    </tr>\n",
       "  </tbody>\n",
       "</table>\n",
       "</div>"
      ],
      "text/plain": [
       "              approach  uplift@10%  uplift@20%\n",
       "1  ClassTransformation    0.092180    0.080680\n",
       "0            SoloModel    0.067744    0.067752\n",
       "2            TwoModels    0.041172    0.054059"
      ]
     },
     "execution_count": 16,
     "metadata": {},
     "output_type": "execute_result"
    }
   ],
   "source": [
    "final_restuls = pd.DataFrame(data=models_results).sort_values('uplift@10%', ascending=False)\n",
    "final_restuls"
   ]
  },
  {
   "cell_type": "markdown",
   "id": "117ddd50",
   "metadata": {},
   "source": [
    "## Сравнение конверсии для SoloModel:"
   ]
  },
  {
   "cell_type": "code",
   "execution_count": 18,
   "id": "fc7b1a6b",
   "metadata": {},
   "outputs": [],
   "source": [
    "df = X_test.copy()"
   ]
  },
  {
   "cell_type": "code",
   "execution_count": 19,
   "id": "96c79397",
   "metadata": {},
   "outputs": [],
   "source": [
    "df['uplift_sm'] = uplift_sm"
   ]
  },
  {
   "cell_type": "code",
   "execution_count": 20,
   "id": "bdae743a",
   "metadata": {},
   "outputs": [],
   "source": [
    "df['target'] = y_test"
   ]
  },
  {
   "cell_type": "code",
   "execution_count": 21,
   "id": "4f664eb2",
   "metadata": {},
   "outputs": [],
   "source": [
    "df = df.sort_values(by='uplift_sm', ascending=False)\n",
    "sorted_target = df['target']"
   ]
  },
  {
   "cell_type": "code",
   "execution_count": 22,
   "id": "a5970950",
   "metadata": {
    "scrolled": false
   },
   "outputs": [
    {
     "data": {
      "text/html": [
       "<div>\n",
       "<style scoped>\n",
       "    .dataframe tbody tr th:only-of-type {\n",
       "        vertical-align: middle;\n",
       "    }\n",
       "\n",
       "    .dataframe tbody tr th {\n",
       "        vertical-align: top;\n",
       "    }\n",
       "\n",
       "    .dataframe thead th {\n",
       "        text-align: right;\n",
       "    }\n",
       "</style>\n",
       "<table border=\"1\" class=\"dataframe\">\n",
       "  <thead>\n",
       "    <tr style=\"text-align: right;\">\n",
       "      <th></th>\n",
       "      <th>recency</th>\n",
       "      <th>history</th>\n",
       "      <th>used_discount</th>\n",
       "      <th>used_bogo</th>\n",
       "      <th>zip_code</th>\n",
       "      <th>is_referral</th>\n",
       "      <th>channel</th>\n",
       "      <th>uplift_sm</th>\n",
       "      <th>target</th>\n",
       "      <th>cut</th>\n",
       "    </tr>\n",
       "  </thead>\n",
       "  <tbody>\n",
       "    <tr>\n",
       "      <th>49695</th>\n",
       "      <td>1.000000</td>\n",
       "      <td>0.001864</td>\n",
       "      <td>0</td>\n",
       "      <td>1</td>\n",
       "      <td>Surburban</td>\n",
       "      <td>1</td>\n",
       "      <td>Web</td>\n",
       "      <td>0.259987</td>\n",
       "      <td>0</td>\n",
       "      <td>(0.233, 0.26]</td>\n",
       "    </tr>\n",
       "    <tr>\n",
       "      <th>56217</th>\n",
       "      <td>1.000000</td>\n",
       "      <td>0.001619</td>\n",
       "      <td>0</td>\n",
       "      <td>1</td>\n",
       "      <td>Surburban</td>\n",
       "      <td>1</td>\n",
       "      <td>Web</td>\n",
       "      <td>0.259987</td>\n",
       "      <td>0</td>\n",
       "      <td>(0.233, 0.26]</td>\n",
       "    </tr>\n",
       "    <tr>\n",
       "      <th>46990</th>\n",
       "      <td>1.000000</td>\n",
       "      <td>0.001532</td>\n",
       "      <td>0</td>\n",
       "      <td>1</td>\n",
       "      <td>Surburban</td>\n",
       "      <td>1</td>\n",
       "      <td>Web</td>\n",
       "      <td>0.259987</td>\n",
       "      <td>0</td>\n",
       "      <td>(0.233, 0.26]</td>\n",
       "    </tr>\n",
       "    <tr>\n",
       "      <th>52901</th>\n",
       "      <td>1.000000</td>\n",
       "      <td>0.002687</td>\n",
       "      <td>0</td>\n",
       "      <td>1</td>\n",
       "      <td>Surburban</td>\n",
       "      <td>1</td>\n",
       "      <td>Web</td>\n",
       "      <td>0.259987</td>\n",
       "      <td>0</td>\n",
       "      <td>(0.233, 0.26]</td>\n",
       "    </tr>\n",
       "    <tr>\n",
       "      <th>38473</th>\n",
       "      <td>1.000000</td>\n",
       "      <td>0.002862</td>\n",
       "      <td>0</td>\n",
       "      <td>1</td>\n",
       "      <td>Surburban</td>\n",
       "      <td>1</td>\n",
       "      <td>Web</td>\n",
       "      <td>0.259987</td>\n",
       "      <td>0</td>\n",
       "      <td>(0.233, 0.26]</td>\n",
       "    </tr>\n",
       "    <tr>\n",
       "      <th>...</th>\n",
       "      <td>...</td>\n",
       "      <td>...</td>\n",
       "      <td>...</td>\n",
       "      <td>...</td>\n",
       "      <td>...</td>\n",
       "      <td>...</td>\n",
       "      <td>...</td>\n",
       "      <td>...</td>\n",
       "      <td>...</td>\n",
       "      <td>...</td>\n",
       "    </tr>\n",
       "    <tr>\n",
       "      <th>32910</th>\n",
       "      <td>0.363636</td>\n",
       "      <td>0.102224</td>\n",
       "      <td>1</td>\n",
       "      <td>0</td>\n",
       "      <td>Rural</td>\n",
       "      <td>0</td>\n",
       "      <td>Multichannel</td>\n",
       "      <td>-0.013916</td>\n",
       "      <td>0</td>\n",
       "      <td>(-0.0144, 0.0133]</td>\n",
       "    </tr>\n",
       "    <tr>\n",
       "      <th>46308</th>\n",
       "      <td>0.363636</td>\n",
       "      <td>0.104577</td>\n",
       "      <td>1</td>\n",
       "      <td>0</td>\n",
       "      <td>Rural</td>\n",
       "      <td>0</td>\n",
       "      <td>Phone</td>\n",
       "      <td>-0.014091</td>\n",
       "      <td>0</td>\n",
       "      <td>(-0.0144, 0.0133]</td>\n",
       "    </tr>\n",
       "    <tr>\n",
       "      <th>54928</th>\n",
       "      <td>0.363636</td>\n",
       "      <td>0.079009</td>\n",
       "      <td>1</td>\n",
       "      <td>0</td>\n",
       "      <td>Rural</td>\n",
       "      <td>0</td>\n",
       "      <td>Phone</td>\n",
       "      <td>-0.014091</td>\n",
       "      <td>1</td>\n",
       "      <td>(-0.0144, 0.0133]</td>\n",
       "    </tr>\n",
       "    <tr>\n",
       "      <th>27534</th>\n",
       "      <td>0.363636</td>\n",
       "      <td>0.096214</td>\n",
       "      <td>1</td>\n",
       "      <td>0</td>\n",
       "      <td>Rural</td>\n",
       "      <td>0</td>\n",
       "      <td>Phone</td>\n",
       "      <td>-0.014091</td>\n",
       "      <td>0</td>\n",
       "      <td>(-0.0144, 0.0133]</td>\n",
       "    </tr>\n",
       "    <tr>\n",
       "      <th>29977</th>\n",
       "      <td>0.363636</td>\n",
       "      <td>0.084938</td>\n",
       "      <td>1</td>\n",
       "      <td>0</td>\n",
       "      <td>Rural</td>\n",
       "      <td>0</td>\n",
       "      <td>Phone</td>\n",
       "      <td>-0.014091</td>\n",
       "      <td>1</td>\n",
       "      <td>(-0.0144, 0.0133]</td>\n",
       "    </tr>\n",
       "  </tbody>\n",
       "</table>\n",
       "<p>19200 rows × 10 columns</p>\n",
       "</div>"
      ],
      "text/plain": [
       "        recency   history  used_discount  used_bogo   zip_code  is_referral  \\\n",
       "49695  1.000000  0.001864              0          1  Surburban            1   \n",
       "56217  1.000000  0.001619              0          1  Surburban            1   \n",
       "46990  1.000000  0.001532              0          1  Surburban            1   \n",
       "52901  1.000000  0.002687              0          1  Surburban            1   \n",
       "38473  1.000000  0.002862              0          1  Surburban            1   \n",
       "...         ...       ...            ...        ...        ...          ...   \n",
       "32910  0.363636  0.102224              1          0      Rural            0   \n",
       "46308  0.363636  0.104577              1          0      Rural            0   \n",
       "54928  0.363636  0.079009              1          0      Rural            0   \n",
       "27534  0.363636  0.096214              1          0      Rural            0   \n",
       "29977  0.363636  0.084938              1          0      Rural            0   \n",
       "\n",
       "            channel  uplift_sm  target                cut  \n",
       "49695           Web   0.259987       0      (0.233, 0.26]  \n",
       "56217           Web   0.259987       0      (0.233, 0.26]  \n",
       "46990           Web   0.259987       0      (0.233, 0.26]  \n",
       "52901           Web   0.259987       0      (0.233, 0.26]  \n",
       "38473           Web   0.259987       0      (0.233, 0.26]  \n",
       "...             ...        ...     ...                ...  \n",
       "32910  Multichannel  -0.013916       0  (-0.0144, 0.0133]  \n",
       "46308         Phone  -0.014091       0  (-0.0144, 0.0133]  \n",
       "54928         Phone  -0.014091       1  (-0.0144, 0.0133]  \n",
       "27534         Phone  -0.014091       0  (-0.0144, 0.0133]  \n",
       "29977         Phone  -0.014091       1  (-0.0144, 0.0133]  \n",
       "\n",
       "[19200 rows x 10 columns]"
      ]
     },
     "execution_count": 22,
     "metadata": {},
     "output_type": "execute_result"
    }
   ],
   "source": [
    "df['cut'] = pd.cut(sorted(uplift_sm, reverse=True), 10)\n",
    "df"
   ]
  },
  {
   "cell_type": "code",
   "execution_count": 23,
   "id": "2a586024",
   "metadata": {},
   "outputs": [
    {
     "data": {
      "text/html": [
       "<div>\n",
       "<style scoped>\n",
       "    .dataframe tbody tr th:only-of-type {\n",
       "        vertical-align: middle;\n",
       "    }\n",
       "\n",
       "    .dataframe tbody tr th {\n",
       "        vertical-align: top;\n",
       "    }\n",
       "\n",
       "    .dataframe thead th {\n",
       "        text-align: right;\n",
       "    }\n",
       "</style>\n",
       "<table border=\"1\" class=\"dataframe\">\n",
       "  <thead>\n",
       "    <tr style=\"text-align: right;\">\n",
       "      <th></th>\n",
       "      <th>cut</th>\n",
       "      <th>conversion</th>\n",
       "    </tr>\n",
       "  </thead>\n",
       "  <tbody>\n",
       "    <tr>\n",
       "      <th>0</th>\n",
       "      <td>(-0.0144, 0.0133]</td>\n",
       "      <td>0.235294</td>\n",
       "    </tr>\n",
       "    <tr>\n",
       "      <th>1</th>\n",
       "      <td>(0.0133, 0.0407]</td>\n",
       "      <td>0.137698</td>\n",
       "    </tr>\n",
       "    <tr>\n",
       "      <th>2</th>\n",
       "      <td>(0.0407, 0.0681]</td>\n",
       "      <td>0.178657</td>\n",
       "    </tr>\n",
       "    <tr>\n",
       "      <th>3</th>\n",
       "      <td>(0.0681, 0.0955]</td>\n",
       "      <td>0.163822</td>\n",
       "    </tr>\n",
       "    <tr>\n",
       "      <th>4</th>\n",
       "      <td>(0.0955, 0.123]</td>\n",
       "      <td>0.155918</td>\n",
       "    </tr>\n",
       "    <tr>\n",
       "      <th>5</th>\n",
       "      <td>(0.123, 0.15]</td>\n",
       "      <td>0.140392</td>\n",
       "    </tr>\n",
       "    <tr>\n",
       "      <th>6</th>\n",
       "      <td>(0.15, 0.178]</td>\n",
       "      <td>0.103178</td>\n",
       "    </tr>\n",
       "    <tr>\n",
       "      <th>7</th>\n",
       "      <td>(0.178, 0.205]</td>\n",
       "      <td>0.096030</td>\n",
       "    </tr>\n",
       "    <tr>\n",
       "      <th>8</th>\n",
       "      <td>(0.205, 0.233]</td>\n",
       "      <td>0.081395</td>\n",
       "    </tr>\n",
       "    <tr>\n",
       "      <th>9</th>\n",
       "      <td>(0.233, 0.26]</td>\n",
       "      <td>0.106195</td>\n",
       "    </tr>\n",
       "  </tbody>\n",
       "</table>\n",
       "</div>"
      ],
      "text/plain": [
       "                 cut  conversion\n",
       "0  (-0.0144, 0.0133]    0.235294\n",
       "1   (0.0133, 0.0407]    0.137698\n",
       "2   (0.0407, 0.0681]    0.178657\n",
       "3   (0.0681, 0.0955]    0.163822\n",
       "4    (0.0955, 0.123]    0.155918\n",
       "5      (0.123, 0.15]    0.140392\n",
       "6      (0.15, 0.178]    0.103178\n",
       "7     (0.178, 0.205]    0.096030\n",
       "8     (0.205, 0.233]    0.081395\n",
       "9      (0.233, 0.26]    0.106195"
      ]
     },
     "execution_count": 23,
     "metadata": {},
     "output_type": "execute_result"
    }
   ],
   "source": [
    "conversion = pd.DataFrame(df.groupby(by='cut').mean()['target']).rename(columns={'target': 'conversion'}).reset_index()\n",
    "conversion"
   ]
  },
  {
   "cell_type": "code",
   "execution_count": 24,
   "id": "154a578e",
   "metadata": {},
   "outputs": [],
   "source": [
    "import matplotlib.pyplot as plt"
   ]
  },
  {
   "cell_type": "code",
   "execution_count": 27,
   "id": "c10914ca",
   "metadata": {},
   "outputs": [
    {
     "data": {
      "image/png": "[encoded data removed]",
      "text/plain": [
       "<Figure size 1080x360 with 1 Axes>"
      ]
     },
     "metadata": {
      "needs_background": "light"
     },
     "output_type": "display_data"
    }
   ],
   "source": [
    "plt.figure(figsize=(15,5))\n",
    "plt.rc('xtick', labelsize=12) \n",
    "plt.rc('ytick', labelsize=12) \n",
    "font = {'size'   : 18}\n",
    "\n",
    "plt.rc('font', **font)\n",
    "plt.bar(conversion.cut.astype('str').to_list(), conversion.conversion)\n",
    "plt.xlabel('deciles of uplift score')\n",
    "plt.ylabel('conversion')\n",
    "plt.xticks(rotation=70)\n",
    "plt.show();"
   ]
  }
 ],
 "metadata": {
  "kernelspec": {
   "display_name": "Python 3",
   "language": "python",
   "name": "python3"
  },
  "language_info": {
   "codemirror_mode": {
    "name": "ipython",
    "version": 3
   },
   "file_extension": ".py",
   "mimetype": "text/x-python",
   "name": "python",
   "nbconvert_exporter": "python",
   "pygments_lexer": "ipython3",
   "version": "3.8.10"
  }
 },
 "nbformat": 4,
 "nbformat_minor": 5
}
