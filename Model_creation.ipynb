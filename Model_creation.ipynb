{
 "cells": [
  {
   "cell_type": "markdown",
   "metadata": {},
   "source": [
    "# Курсовой проект"
   ]
  },
  {
   "cell_type": "markdown",
   "metadata": {},
   "source": [
    "## Обучение модели. Часть 1."
   ]
  },
  {
   "cell_type": "markdown",
   "metadata": {},
   "source": [
    "Реализация rest api на базе flask\n",
    "\n",
    "- dataset: https://www.kaggle.com/vikasukani/diabetes-data-set\n",
    "- Данные о предсказании наличия диабета у пациентов. \n",
    "- model: AdaBoostClassifier\n",
    "\n",
    "Как использовать:\n",
    "1. С помощью Model_creation.ipynb обучить модель на данных diabetes-dataset.csv и сохранить в ada_model.dill\n",
    "2. Используя run_server.py запустить сервер в терминале командой \"python run_server.py\" либо через IDE.\n",
    "3. Запустив сервер, с помощью Prediction.ipynb можно обращаться к api"
   ]
  },
  {
   "cell_type": "code",
   "execution_count": 1,
   "metadata": {
    "scrolled": true
   },
   "outputs": [],
   "source": [
    "import pandas as pd\n",
    "from sklearn.ensemble import AdaBoostClassifier\n",
    "import matplotlib.pyplot as plt\n",
    "import numpy as np\n",
    "from sklearn.model_selection import train_test_split\n",
    "from sklearn.metrics import precision_recall_curve, precision_score, accuracy_score, f1_score, recall_score\n",
    "import dill"
   ]
  },
  {
   "cell_type": "code",
   "execution_count": 2,
   "metadata": {},
   "outputs": [],
   "source": [
    "data = pd.read_csv('diabetes-dataset.csv')\n",
    "features = ['Pregnancies', 'Glucose', 'BloodPressure', \\\n",
    "            'SkinThickness', 'Insulin', 'BMI', 'DiabetesPedigreeFunction', 'Age']\n",
    "target = ['Outcome']"
   ]
  },
  {
   "cell_type": "markdown",
   "metadata": {},
   "source": [
    "- <b>Pregnancies</b> - the condition of being pregnant.\n",
    "- <b>Glucose</b> - A simple monosaccharide (sugar)\n",
    "- <b>BloodPressure</b> - Blood pressure is the force of your blood pushing against the walls of your arteries. Each time your heart beats, it pumps blood into the arteries.\n",
    "- <b>SkinThickness</b> - We measured skin thickness in 66 IDDM patients aged 24–38 yr and investigated whether it correlated with long-term glycemic control and the presence of certain\n",
    "- <b>Insulin</b> - A polypeptide hormone that regulates carbohydrate metabolism.\n",
    "- <b>BMI</b> - Inclusion-body myositis (IBM) primarily affects men,\n",
    "- <b>DiabetesPedigreeFunction</b> - a function which scores likelihood of diabetes based on family history\n",
    "- <b>Age</b> - patient age (years)\n",
    "- <b>Outcome</b> - target feature (0 if non-diabetic, 1 if diabetic)"
   ]
  },
  {
   "cell_type": "markdown",
   "metadata": {},
   "source": [
    "Посмотрим на корреляции признаков:"
   ]
  },
  {
   "cell_type": "code",
   "execution_count": 3,
   "metadata": {
    "scrolled": true
   },
   "outputs": [
    {
     "data": {
      "text/html": [
       "<style  type=\"text/css\" >\n",
       "#T_1f303_row0_col0,#T_1f303_row1_col1,#T_1f303_row2_col2,#T_1f303_row3_col3,#T_1f303_row4_col4,#T_1f303_row5_col5,#T_1f303_row6_col6,#T_1f303_row7_col7,#T_1f303_row8_col8{\n",
       "            background-color:  #b40426;\n",
       "            color:  #f1f1f1;\n",
       "        }#T_1f303_row0_col1{\n",
       "            background-color:  #4c66d6;\n",
       "            color:  #000000;\n",
       "        }#T_1f303_row0_col2{\n",
       "            background-color:  #5a78e4;\n",
       "            color:  #000000;\n",
       "        }#T_1f303_row0_col3{\n",
       "            background-color:  #465ecf;\n",
       "            color:  #f1f1f1;\n",
       "        }#T_1f303_row0_col4{\n",
       "            background-color:  #3d50c3;\n",
       "            color:  #f1f1f1;\n",
       "        }#T_1f303_row0_col5,#T_1f303_row0_col6,#T_1f303_row2_col8,#T_1f303_row3_col1,#T_1f303_row3_col7,#T_1f303_row3_col8,#T_1f303_row4_col0,#T_1f303_row6_col2,#T_1f303_row7_col3,#T_1f303_row7_col4{\n",
       "            background-color:  #3b4cc0;\n",
       "            color:  #f1f1f1;\n",
       "        }#T_1f303_row0_col7{\n",
       "            background-color:  #efcebd;\n",
       "            color:  #000000;\n",
       "        }#T_1f303_row0_col8{\n",
       "            background-color:  #6e90f2;\n",
       "            color:  #000000;\n",
       "        }#T_1f303_row1_col0{\n",
       "            background-color:  #7597f6;\n",
       "            color:  #000000;\n",
       "        }#T_1f303_row1_col2{\n",
       "            background-color:  #5673e0;\n",
       "            color:  #000000;\n",
       "        }#T_1f303_row1_col3,#T_1f303_row3_col2{\n",
       "            background-color:  #6b8df0;\n",
       "            color:  #000000;\n",
       "        }#T_1f303_row1_col4{\n",
       "            background-color:  #b7cff9;\n",
       "            color:  #000000;\n",
       "        }#T_1f303_row1_col5,#T_1f303_row4_col6{\n",
       "            background-color:  #80a3fa;\n",
       "            color:  #000000;\n",
       "        }#T_1f303_row1_col6,#T_1f303_row5_col6{\n",
       "            background-color:  #688aef;\n",
       "            color:  #000000;\n",
       "        }#T_1f303_row1_col7{\n",
       "            background-color:  #a9c6fd;\n",
       "            color:  #000000;\n",
       "        }#T_1f303_row1_col8{\n",
       "            background-color:  #c4d5f3;\n",
       "            color:  #000000;\n",
       "        }#T_1f303_row2_col0,#T_1f303_row4_col5{\n",
       "            background-color:  #7ea1fa;\n",
       "            color:  #000000;\n",
       "        }#T_1f303_row2_col1{\n",
       "            background-color:  #536edd;\n",
       "            color:  #000000;\n",
       "        }#T_1f303_row2_col3,#T_1f303_row8_col0{\n",
       "            background-color:  #97b8ff;\n",
       "            color:  #000000;\n",
       "        }#T_1f303_row2_col4{\n",
       "            background-color:  #6c8ff1;\n",
       "            color:  #000000;\n",
       "        }#T_1f303_row2_col5{\n",
       "            background-color:  #93b5fe;\n",
       "            color:  #000000;\n",
       "        }#T_1f303_row2_col6{\n",
       "            background-color:  #516ddb;\n",
       "            color:  #000000;\n",
       "        }#T_1f303_row2_col7,#T_1f303_row8_col7{\n",
       "            background-color:  #a3c2fe;\n",
       "            color:  #000000;\n",
       "        }#T_1f303_row3_col0{\n",
       "            background-color:  #3e51c5;\n",
       "            color:  #f1f1f1;\n",
       "        }#T_1f303_row3_col4{\n",
       "            background-color:  #dbdcde;\n",
       "            color:  #000000;\n",
       "        }#T_1f303_row3_col5{\n",
       "            background-color:  #bad0f8;\n",
       "            color:  #000000;\n",
       "        }#T_1f303_row3_col6,#T_1f303_row7_col2{\n",
       "            background-color:  #7a9df8;\n",
       "            color:  #000000;\n",
       "        }#T_1f303_row4_col1{\n",
       "            background-color:  #96b7ff;\n",
       "            color:  #000000;\n",
       "        }#T_1f303_row4_col2{\n",
       "            background-color:  #455cce;\n",
       "            color:  #f1f1f1;\n",
       "        }#T_1f303_row4_col3{\n",
       "            background-color:  #dedcdb;\n",
       "            color:  #000000;\n",
       "        }#T_1f303_row4_col7,#T_1f303_row7_col5{\n",
       "            background-color:  #4055c8;\n",
       "            color:  #f1f1f1;\n",
       "        }#T_1f303_row4_col8,#T_1f303_row6_col0,#T_1f303_row7_col6{\n",
       "            background-color:  #4961d2;\n",
       "            color:  #f1f1f1;\n",
       "        }#T_1f303_row5_col0,#T_1f303_row6_col8{\n",
       "            background-color:  #5572df;\n",
       "            color:  #000000;\n",
       "        }#T_1f303_row5_col1,#T_1f303_row7_col8{\n",
       "            background-color:  #7295f4;\n",
       "            color:  #000000;\n",
       "        }#T_1f303_row5_col2{\n",
       "            background-color:  #8badfd;\n",
       "            color:  #000000;\n",
       "        }#T_1f303_row5_col3{\n",
       "            background-color:  #d1dae9;\n",
       "            color:  #000000;\n",
       "        }#T_1f303_row5_col4{\n",
       "            background-color:  #98b9ff;\n",
       "            color:  #000000;\n",
       "        }#T_1f303_row5_col7{\n",
       "            background-color:  #6485ec;\n",
       "            color:  #000000;\n",
       "        }#T_1f303_row5_col8{\n",
       "            background-color:  #81a4fb;\n",
       "            color:  #000000;\n",
       "        }#T_1f303_row6_col1{\n",
       "            background-color:  #4e68d8;\n",
       "            color:  #000000;\n",
       "        }#T_1f303_row6_col3{\n",
       "            background-color:  #90b2fe;\n",
       "            color:  #000000;\n",
       "        }#T_1f303_row6_col4{\n",
       "            background-color:  #8fb1fe;\n",
       "            color:  #000000;\n",
       "        }#T_1f303_row6_col5{\n",
       "            background-color:  #5b7ae5;\n",
       "            color:  #000000;\n",
       "        }#T_1f303_row6_col7{\n",
       "            background-color:  #6180e9;\n",
       "            color:  #000000;\n",
       "        }#T_1f303_row7_col0{\n",
       "            background-color:  #edd1c2;\n",
       "            color:  #000000;\n",
       "        }#T_1f303_row7_col1{\n",
       "            background-color:  #7da0f9;\n",
       "            color:  #000000;\n",
       "        }#T_1f303_row8_col1{\n",
       "            background-color:  #c7d7f0;\n",
       "            color:  #000000;\n",
       "        }#T_1f303_row8_col2{\n",
       "            background-color:  #4257c9;\n",
       "            color:  #f1f1f1;\n",
       "        }#T_1f303_row8_col3{\n",
       "            background-color:  #7093f3;\n",
       "            color:  #000000;\n",
       "        }#T_1f303_row8_col4{\n",
       "            background-color:  #779af7;\n",
       "            color:  #000000;\n",
       "        }#T_1f303_row8_col5{\n",
       "            background-color:  #92b4fe;\n",
       "            color:  #000000;\n",
       "        }#T_1f303_row8_col6{\n",
       "            background-color:  #7396f5;\n",
       "            color:  #000000;\n",
       "        }</style><table id=\"T_1f303_\" ><thead>    <tr>        <th class=\"blank level0\" ></th>        <th class=\"col_heading level0 col0\" >Pregnancies</th>        <th class=\"col_heading level0 col1\" >Glucose</th>        <th class=\"col_heading level0 col2\" >BloodPressure</th>        <th class=\"col_heading level0 col3\" >SkinThickness</th>        <th class=\"col_heading level0 col4\" >Insulin</th>        <th class=\"col_heading level0 col5\" >BMI</th>        <th class=\"col_heading level0 col6\" >DiabetesPedigreeFunction</th>        <th class=\"col_heading level0 col7\" >Age</th>        <th class=\"col_heading level0 col8\" >Outcome</th>    </tr></thead><tbody>\n",
       "                <tr>\n",
       "                        <th id=\"T_1f303_level0_row0\" class=\"row_heading level0 row0\" >Pregnancies</th>\n",
       "                        <td id=\"T_1f303_row0_col0\" class=\"data row0 col0\" >1.000000</td>\n",
       "                        <td id=\"T_1f303_row0_col1\" class=\"data row0 col1\" >0.120405</td>\n",
       "                        <td id=\"T_1f303_row0_col2\" class=\"data row0 col2\" >0.149672</td>\n",
       "                        <td id=\"T_1f303_row0_col3\" class=\"data row0 col3\" >-0.063375</td>\n",
       "                        <td id=\"T_1f303_row0_col4\" class=\"data row0 col4\" >-0.076600</td>\n",
       "                        <td id=\"T_1f303_row0_col5\" class=\"data row0 col5\" >0.019475</td>\n",
       "                        <td id=\"T_1f303_row0_col6\" class=\"data row0 col6\" >-0.025453</td>\n",
       "                        <td id=\"T_1f303_row0_col7\" class=\"data row0 col7\" >0.539457</td>\n",
       "                        <td id=\"T_1f303_row0_col8\" class=\"data row0 col8\" >0.224437</td>\n",
       "            </tr>\n",
       "            <tr>\n",
       "                        <th id=\"T_1f303_level0_row1\" class=\"row_heading level0 row1\" >Glucose</th>\n",
       "                        <td id=\"T_1f303_row1_col0\" class=\"data row1 col0\" >0.120405</td>\n",
       "                        <td id=\"T_1f303_row1_col1\" class=\"data row1 col1\" >1.000000</td>\n",
       "                        <td id=\"T_1f303_row1_col2\" class=\"data row1 col2\" >0.138044</td>\n",
       "                        <td id=\"T_1f303_row1_col3\" class=\"data row1 col3\" >0.062368</td>\n",
       "                        <td id=\"T_1f303_row1_col4\" class=\"data row1 col4\" >0.320371</td>\n",
       "                        <td id=\"T_1f303_row1_col5\" class=\"data row1 col5\" >0.226864</td>\n",
       "                        <td id=\"T_1f303_row1_col6\" class=\"data row1 col6\" >0.123243</td>\n",
       "                        <td id=\"T_1f303_row1_col7\" class=\"data row1 col7\" >0.254496</td>\n",
       "                        <td id=\"T_1f303_row1_col8\" class=\"data row1 col8\" >0.458421</td>\n",
       "            </tr>\n",
       "            <tr>\n",
       "                        <th id=\"T_1f303_level0_row2\" class=\"row_heading level0 row2\" >BloodPressure</th>\n",
       "                        <td id=\"T_1f303_row2_col0\" class=\"data row2 col0\" >0.149672</td>\n",
       "                        <td id=\"T_1f303_row2_col1\" class=\"data row2 col1\" >0.138044</td>\n",
       "                        <td id=\"T_1f303_row2_col2\" class=\"data row2 col2\" >1.000000</td>\n",
       "                        <td id=\"T_1f303_row2_col3\" class=\"data row2 col3\" >0.198800</td>\n",
       "                        <td id=\"T_1f303_row2_col4\" class=\"data row2 col4\" >0.087384</td>\n",
       "                        <td id=\"T_1f303_row2_col5\" class=\"data row2 col5\" >0.281545</td>\n",
       "                        <td id=\"T_1f303_row2_col6\" class=\"data row2 col6\" >0.051331</td>\n",
       "                        <td id=\"T_1f303_row2_col7\" class=\"data row2 col7\" >0.238375</td>\n",
       "                        <td id=\"T_1f303_row2_col8\" class=\"data row2 col8\" >0.075958</td>\n",
       "            </tr>\n",
       "            <tr>\n",
       "                        <th id=\"T_1f303_level0_row3\" class=\"row_heading level0 row3\" >SkinThickness</th>\n",
       "                        <td id=\"T_1f303_row3_col0\" class=\"data row3 col0\" >-0.063375</td>\n",
       "                        <td id=\"T_1f303_row3_col1\" class=\"data row3 col1\" >0.062368</td>\n",
       "                        <td id=\"T_1f303_row3_col2\" class=\"data row3 col2\" >0.198800</td>\n",
       "                        <td id=\"T_1f303_row3_col3\" class=\"data row3 col3\" >1.000000</td>\n",
       "                        <td id=\"T_1f303_row3_col4\" class=\"data row3 col4\" >0.448859</td>\n",
       "                        <td id=\"T_1f303_row3_col5\" class=\"data row3 col5\" >0.393760</td>\n",
       "                        <td id=\"T_1f303_row3_col6\" class=\"data row3 col6\" >0.178299</td>\n",
       "                        <td id=\"T_1f303_row3_col7\" class=\"data row3 col7\" >-0.111034</td>\n",
       "                        <td id=\"T_1f303_row3_col8\" class=\"data row3 col8\" >0.076040</td>\n",
       "            </tr>\n",
       "            <tr>\n",
       "                        <th id=\"T_1f303_level0_row4\" class=\"row_heading level0 row4\" >Insulin</th>\n",
       "                        <td id=\"T_1f303_row4_col0\" class=\"data row4 col0\" >-0.076600</td>\n",
       "                        <td id=\"T_1f303_row4_col1\" class=\"data row4 col1\" >0.320371</td>\n",
       "                        <td id=\"T_1f303_row4_col2\" class=\"data row4 col2\" >0.087384</td>\n",
       "                        <td id=\"T_1f303_row4_col3\" class=\"data row4 col3\" >0.448859</td>\n",
       "                        <td id=\"T_1f303_row4_col4\" class=\"data row4 col4\" >1.000000</td>\n",
       "                        <td id=\"T_1f303_row4_col5\" class=\"data row4 col5\" >0.223012</td>\n",
       "                        <td id=\"T_1f303_row4_col6\" class=\"data row4 col6\" >0.192719</td>\n",
       "                        <td id=\"T_1f303_row4_col7\" class=\"data row4 col7\" >-0.085879</td>\n",
       "                        <td id=\"T_1f303_row4_col8\" class=\"data row4 col8\" >0.120924</td>\n",
       "            </tr>\n",
       "            <tr>\n",
       "                        <th id=\"T_1f303_level0_row5\" class=\"row_heading level0 row5\" >BMI</th>\n",
       "                        <td id=\"T_1f303_row5_col0\" class=\"data row5 col0\" >0.019475</td>\n",
       "                        <td id=\"T_1f303_row5_col1\" class=\"data row5 col1\" >0.226864</td>\n",
       "                        <td id=\"T_1f303_row5_col2\" class=\"data row5 col2\" >0.281545</td>\n",
       "                        <td id=\"T_1f303_row5_col3\" class=\"data row5 col3\" >0.393760</td>\n",
       "                        <td id=\"T_1f303_row5_col4\" class=\"data row5 col4\" >0.223012</td>\n",
       "                        <td id=\"T_1f303_row5_col5\" class=\"data row5 col5\" >1.000000</td>\n",
       "                        <td id=\"T_1f303_row5_col6\" class=\"data row5 col6\" >0.125719</td>\n",
       "                        <td id=\"T_1f303_row5_col7\" class=\"data row5 col7\" >0.038987</td>\n",
       "                        <td id=\"T_1f303_row5_col8\" class=\"data row5 col8\" >0.276726</td>\n",
       "            </tr>\n",
       "            <tr>\n",
       "                        <th id=\"T_1f303_level0_row6\" class=\"row_heading level0 row6\" >DiabetesPedigreeFunction</th>\n",
       "                        <td id=\"T_1f303_row6_col0\" class=\"data row6 col0\" >-0.025453</td>\n",
       "                        <td id=\"T_1f303_row6_col1\" class=\"data row6 col1\" >0.123243</td>\n",
       "                        <td id=\"T_1f303_row6_col2\" class=\"data row6 col2\" >0.051331</td>\n",
       "                        <td id=\"T_1f303_row6_col3\" class=\"data row6 col3\" >0.178299</td>\n",
       "                        <td id=\"T_1f303_row6_col4\" class=\"data row6 col4\" >0.192719</td>\n",
       "                        <td id=\"T_1f303_row6_col5\" class=\"data row6 col5\" >0.125719</td>\n",
       "                        <td id=\"T_1f303_row6_col6\" class=\"data row6 col6\" >1.000000</td>\n",
       "                        <td id=\"T_1f303_row6_col7\" class=\"data row6 col7\" >0.026569</td>\n",
       "                        <td id=\"T_1f303_row6_col8\" class=\"data row6 col8\" >0.155459</td>\n",
       "            </tr>\n",
       "            <tr>\n",
       "                        <th id=\"T_1f303_level0_row7\" class=\"row_heading level0 row7\" >Age</th>\n",
       "                        <td id=\"T_1f303_row7_col0\" class=\"data row7 col0\" >0.539457</td>\n",
       "                        <td id=\"T_1f303_row7_col1\" class=\"data row7 col1\" >0.254496</td>\n",
       "                        <td id=\"T_1f303_row7_col2\" class=\"data row7 col2\" >0.238375</td>\n",
       "                        <td id=\"T_1f303_row7_col3\" class=\"data row7 col3\" >-0.111034</td>\n",
       "                        <td id=\"T_1f303_row7_col4\" class=\"data row7 col4\" >-0.085879</td>\n",
       "                        <td id=\"T_1f303_row7_col5\" class=\"data row7 col5\" >0.038987</td>\n",
       "                        <td id=\"T_1f303_row7_col6\" class=\"data row7 col6\" >0.026569</td>\n",
       "                        <td id=\"T_1f303_row7_col7\" class=\"data row7 col7\" >1.000000</td>\n",
       "                        <td id=\"T_1f303_row7_col8\" class=\"data row7 col8\" >0.236509</td>\n",
       "            </tr>\n",
       "            <tr>\n",
       "                        <th id=\"T_1f303_level0_row8\" class=\"row_heading level0 row8\" >Outcome</th>\n",
       "                        <td id=\"T_1f303_row8_col0\" class=\"data row8 col0\" >0.224437</td>\n",
       "                        <td id=\"T_1f303_row8_col1\" class=\"data row8 col1\" >0.458421</td>\n",
       "                        <td id=\"T_1f303_row8_col2\" class=\"data row8 col2\" >0.075958</td>\n",
       "                        <td id=\"T_1f303_row8_col3\" class=\"data row8 col3\" >0.076040</td>\n",
       "                        <td id=\"T_1f303_row8_col4\" class=\"data row8 col4\" >0.120924</td>\n",
       "                        <td id=\"T_1f303_row8_col5\" class=\"data row8 col5\" >0.276726</td>\n",
       "                        <td id=\"T_1f303_row8_col6\" class=\"data row8 col6\" >0.155459</td>\n",
       "                        <td id=\"T_1f303_row8_col7\" class=\"data row8 col7\" >0.236509</td>\n",
       "                        <td id=\"T_1f303_row8_col8\" class=\"data row8 col8\" >1.000000</td>\n",
       "            </tr>\n",
       "    </tbody></table>"
      ],
      "text/plain": [
       "<pandas.io.formats.style.Styler at 0x7fbb96c7f820>"
      ]
     },
     "execution_count": 3,
     "metadata": {},
     "output_type": "execute_result"
    }
   ],
   "source": [
    "corr = data.corr()\n",
    "corr.style.background_gradient(cmap='coolwarm')"
   ]
  },
  {
   "cell_type": "markdown",
   "metadata": {},
   "source": [
    "Видим более или менее значимые корреляции между:\n",
    "- Age и Pregnancies\n",
    "- Insulin и SkinThickness\n",
    "- BMI и SkinThickness\n",
    "\n",
    "Касательно таргета наибольшая линейная зависимость есть между:\n",
    "- Outcome и Glucose\n",
    "\n",
    "наименьшая линейная зависимость между:\n",
    "- Outcome и BloodPressure"
   ]
  },
  {
   "cell_type": "code",
   "execution_count": 4,
   "metadata": {},
   "outputs": [],
   "source": [
    "X_train, X_test, y_train, y_test = train_test_split(data[features], data[target], test_size=0.2)\n",
    "\n",
    "X_test.to_csv(\"X_test.csv\", index=None)\n",
    "y_test.to_csv(\"y_test.csv\", index=None)\n",
    "X_train.to_csv(\"X_train.csv\", index=None)\n",
    "y_train.to_csv(\"y_train.csv\", index=None)"
   ]
  },
  {
   "cell_type": "code",
   "execution_count": 15,
   "metadata": {},
   "outputs": [],
   "source": [
    "model = AdaBoostClassifier(learning_rate=0.4, n_estimators=1000, random_state=42)"
   ]
  },
  {
   "cell_type": "code",
   "execution_count": 16,
   "metadata": {
    "scrolled": true
   },
   "outputs": [
    {
     "name": "stderr",
     "output_type": "stream",
     "text": [
      "/Users/tomas/opt/anaconda3/lib/python3.8/site-packages/sklearn/utils/validation.py:63: DataConversionWarning: A column-vector y was passed when a 1d array was expected. Please change the shape of y to (n_samples, ), for example using ravel().\n",
      "  return f(*args, **kwargs)\n"
     ]
    },
    {
     "data": {
      "text/plain": [
       "AdaBoostClassifier(learning_rate=0.4, n_estimators=1000, random_state=42)"
      ]
     },
     "execution_count": 16,
     "metadata": {},
     "output_type": "execute_result"
    }
   ],
   "source": [
    "model.fit(X_train, y_train)"
   ]
  },
  {
   "cell_type": "code",
   "execution_count": 17,
   "metadata": {},
   "outputs": [],
   "source": [
    "preds = model.predict_proba(X_test)[:, 1]"
   ]
  },
  {
   "cell_type": "code",
   "execution_count": 8,
   "metadata": {},
   "outputs": [],
   "source": [
    "def evaluate_model(y_test, y_predict_proba, f_beta=1):\n",
    "    precision, recall, thresholds = precision_recall_curve(y_test, y_predict_proba)\n",
    "    fscore = ( (1 + f_beta**2) * precision * recall) / (f_beta**2 * precision + recall)\n",
    "    ix = np.argmax(fscore)\n",
    "    print(f'fscore: {fscore[ix]}\\nprecision: {precision[ix]}\\nrecall: {recall[ix]}')\n",
    "    plt.figure(figsize=(10, 5))\n",
    "    plt.plot(fscore);\n",
    "    plt.plot(precision);\n",
    "    plt.plot(recall);\n",
    "    plt.ylabel('fscore')\n",
    "    plt.legend(['fscore', 'precision', 'recall'])\n",
    "    return"
   ]
  },
  {
   "cell_type": "code",
   "execution_count": 18,
   "metadata": {},
   "outputs": [
    {
     "name": "stdout",
     "output_type": "stream",
     "text": [
      "fscore: 0.8058608058608059\n",
      "precision: 0.7971014492753623\n",
      "recall: 0.8148148148148148\n"
     ]
    },
    {
     "data": {
      "image/png": "[encoded data removed]",
      "text/plain": [
       "<Figure size 720x360 with 1 Axes>"
      ]
     },
     "metadata": {
      "needs_background": "light"
     },
     "output_type": "display_data"
    }
   ],
   "source": [
    "evaluate_model(y_test, preds)"
   ]
  },
  {
   "cell_type": "code",
   "execution_count": 19,
   "metadata": {},
   "outputs": [],
   "source": [
    "with open(\"ada_model.dill\", \"wb\") as f:\n",
    "    dill.dump(model, f)"
   ]
  }
 ],
 "metadata": {
  "kernelspec": {
   "display_name": "Python 3",
   "language": "python",
   "name": "python3"
  },
  "language_info": {
   "codemirror_mode": {
    "name": "ipython",
    "version": 3
   },
   "file_extension": ".py",
   "mimetype": "text/x-python",
   "name": "python",
   "nbconvert_exporter": "python",
   "pygments_lexer": "ipython3",
   "version": "3.8.10"
  }
 },
 "nbformat": 4,
 "nbformat_minor": 2
}
