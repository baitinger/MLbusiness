{
 "cells": [
  {
   "cell_type": "markdown",
   "metadata": {},
   "source": [
    "### Домашнее задание\n",
    "\n",
    "1. взять любой набор данных для бинарной классификации (можно скачать один из модельных с https://archive.ics.uci.edu/ml/datasets.php)\n",
    "3. сделать feature engineering\n",
    "4. обучить любой классификатор (какой вам нравится)\n",
    "5. далее разделить ваш набор данных на два множества: P (positives) и U (unlabeled). Причем брать нужно не все положительные (класс 1) примеры, а только лишь часть\n",
    "6. применить random negative sampling для построения классификатора в новых условиях\n",
    "7. сравнить качество с решением из пункта 4 (построить отчет - таблицу метрик)\n",
    "8. поэкспериментировать с долей P на шаге 5 (как будет меняться качество модели при уменьшении/увеличении размера P)"
   ]
  },
  {
   "cell_type": "markdown",
   "metadata": {},
   "source": [
    "Данные взяты с:"
   ]
  },
  {
   "cell_type": "markdown",
   "metadata": {},
   "source": [
    "https://www.kaggle.com/vikasukani/diabetes-data-set"
   ]
  },
  {
   "cell_type": "code",
   "execution_count": 1,
   "metadata": {},
   "outputs": [],
   "source": [
    "import pandas as pd\n",
    "import numpy as np\n",
    "from sklearn.model_selection import train_test_split\n",
    "import xgboost as xgb\n",
    "from sklearn.metrics import recall_score, precision_score, roc_auc_score, accuracy_score, f1_score\n",
    "import warnings\n",
    "warnings.filterwarnings('ignore')"
   ]
  },
  {
   "cell_type": "code",
   "execution_count": 2,
   "metadata": {},
   "outputs": [],
   "source": [
    "data = pd.read_csv('diabetes-dataset.csv')"
   ]
  },
  {
   "cell_type": "code",
   "execution_count": 3,
   "metadata": {},
   "outputs": [
    {
     "data": {
      "text/plain": [
       "0    1316\n",
       "1     684\n",
       "Name: Outcome, dtype: int64"
      ]
     },
     "execution_count": 3,
     "metadata": {},
     "output_type": "execute_result"
    }
   ],
   "source": [
    "data['Outcome'].value_counts()"
   ]
  },
  {
   "cell_type": "code",
   "execution_count": 4,
   "metadata": {},
   "outputs": [],
   "source": [
    "X = data.copy()"
   ]
  },
  {
   "cell_type": "code",
   "execution_count": 5,
   "metadata": {},
   "outputs": [],
   "source": [
    "y = X['Outcome']"
   ]
  },
  {
   "cell_type": "code",
   "execution_count": 6,
   "metadata": {},
   "outputs": [],
   "source": [
    "X.drop(columns='Outcome', inplace=True)"
   ]
  },
  {
   "cell_type": "code",
   "execution_count": 7,
   "metadata": {},
   "outputs": [],
   "source": [
    "def evaluate_results(y_test, y_predict):\n",
    "    print('Classification results:')\n",
    "    f1 = f1_score(y_test, y_predict)\n",
    "    print(\"f1: %.2f%%\" % (f1 * 100.0)) \n",
    "    roc = roc_auc_score(y_test, y_predict)\n",
    "    print(\"roc: %.2f%%\" % (roc * 100.0)) \n",
    "    rec = recall_score(y_test, y_predict, average='binary')\n",
    "    print(\"recall: %.2f%%\" % (rec * 100.0)) \n",
    "    prc = precision_score(y_test, y_predict, average='binary')\n",
    "    print(\"precision: %.2f%%\" % (prc * 100.0))\n",
    "    return f1, roc, rec, prc"
   ]
  },
  {
   "cell_type": "code",
   "execution_count": 8,
   "metadata": {},
   "outputs": [],
   "source": [
    "X_train, X_test, y_train, y_test = train_test_split(X, y, test_size=0.3, random_state=42)"
   ]
  },
  {
   "cell_type": "code",
   "execution_count": 9,
   "metadata": {
    "scrolled": true
   },
   "outputs": [
    {
     "name": "stdout",
     "output_type": "stream",
     "text": [
      "[20:46:19] WARNING: ../src/learner.cc:1115: Starting in XGBoost 1.3.0, the default evaluation metric used with the objective 'binary:logistic' was changed from 'error' to 'logloss'. Explicitly set eval_metric if you'd like to restore the old behavior.\n"
     ]
    }
   ],
   "source": [
    "model = xgb.XGBClassifier()\n",
    "\n",
    "model.fit(X_train, y_train)\n",
    "y_predict = model.predict(X_test)"
   ]
  },
  {
   "cell_type": "code",
   "execution_count": 10,
   "metadata": {},
   "outputs": [],
   "source": [
    "results = pd.DataFrame(columns=['model', 'f1', 'roc_auc', 'recall', 'precision'])"
   ]
  },
  {
   "cell_type": "code",
   "execution_count": 11,
   "metadata": {
    "scrolled": true
   },
   "outputs": [
    {
     "name": "stdout",
     "output_type": "stream",
     "text": [
      "Classification results:\n",
      "f1: 94.91%\n",
      "roc: 96.52%\n",
      "recall: 97.16%\n",
      "precision: 92.76%\n"
     ]
    }
   ],
   "source": [
    "f1, roc, rec, prc = evaluate_results(y_test, y_predict)\n",
    "results = results.append({'model': 'XGBClassifier',\n",
    "                'f1': f1,\n",
    "                'roc_auc': roc,\n",
    "                'recall': rec,\n",
    "                'precision': prc}, ignore_index=True)"
   ]
  },
  {
   "cell_type": "code",
   "execution_count": 12,
   "metadata": {},
   "outputs": [],
   "source": [
    "def random_negative_sampling(data, positive_fraction=0.25):\n",
    "    mod_data = data.copy()\n",
    "    pos_ind = np.where(mod_data.iloc[:,-1].values == 1)[0]\n",
    "    np.random.shuffle(pos_ind)\n",
    "    # leave just 25% of the positives marked\n",
    "    pos_sample_len = int(np.ceil(positive_fraction * len(pos_ind)))\n",
    "    pos_sample = pos_ind[:pos_sample_len]\n",
    "    \n",
    "    mod_data['class_test'] = -1\n",
    "    mod_data.loc[pos_sample,'class_test'] = 1\n",
    "    \n",
    "    x_data = mod_data.iloc[:,:-2].values\n",
    "    y_labeled = mod_data.iloc[:,-1].values\n",
    "    y_positive = mod_data.iloc[:,-2].values\n",
    "    \n",
    "    mod_data = mod_data.sample(frac=1)\n",
    "    neg_sample = mod_data[mod_data['class_test']==-1][:len(mod_data[mod_data['class_test']==1])]\n",
    "    sample_test = mod_data[mod_data['class_test']==-1][len(mod_data[mod_data['class_test']==1]):]\n",
    "    pos_sample = mod_data[mod_data['class_test']==1]\n",
    "    print(neg_sample.shape, pos_sample.shape)\n",
    "    sample_train = pd.concat([neg_sample, pos_sample]).sample(frac=1)\n",
    "\n",
    "    model = xgb.XGBClassifier()\n",
    "\n",
    "    model.fit(sample_train.iloc[:,:-2].values, \n",
    "              sample_train.iloc[:,-2].values)\n",
    "    y_predict = model.predict(sample_test.iloc[:,:-2].values)\n",
    "    return evaluate_results(sample_test.iloc[:,-2].values, y_predict)"
   ]
  },
  {
   "cell_type": "code",
   "execution_count": 13,
   "metadata": {},
   "outputs": [
    {
     "name": "stdout",
     "output_type": "stream",
     "text": [
      "(69, 10) (69, 10)\n",
      "[20:46:19] WARNING: ../src/learner.cc:1115: Starting in XGBoost 1.3.0, the default evaluation metric used with the objective 'binary:logistic' was changed from 'error' to 'logloss'. Explicitly set eval_metric if you'd like to restore the old behavior.\n",
      "Classification results:\n",
      "f1: 64.56%\n",
      "roc: 74.48%\n",
      "recall: 88.61%\n",
      "precision: 50.78%\n",
      "(103, 10) (103, 10)\n",
      "[20:46:20] WARNING: ../src/learner.cc:1115: Starting in XGBoost 1.3.0, the default evaluation metric used with the objective 'binary:logistic' was changed from 'error' to 'logloss'. Explicitly set eval_metric if you'd like to restore the old behavior.\n",
      "Classification results:\n",
      "f1: 63.82%\n",
      "roc: 74.58%\n",
      "recall: 85.79%\n",
      "precision: 50.81%\n",
      "(137, 10) (137, 10)\n",
      "[20:46:20] WARNING: ../src/learner.cc:1115: Starting in XGBoost 1.3.0, the default evaluation metric used with the objective 'binary:logistic' was changed from 'error' to 'logloss'. Explicitly set eval_metric if you'd like to restore the old behavior.\n",
      "Classification results:\n",
      "f1: 65.25%\n",
      "roc: 77.04%\n",
      "recall: 85.46%\n",
      "precision: 52.77%\n",
      "(172, 10) (172, 10)\n",
      "[20:46:20] WARNING: ../src/learner.cc:1115: Starting in XGBoost 1.3.0, the default evaluation metric used with the objective 'binary:logistic' was changed from 'error' to 'logloss'. Explicitly set eval_metric if you'd like to restore the old behavior.\n",
      "Classification results:\n",
      "f1: 66.08%\n",
      "roc: 79.25%\n",
      "recall: 90.41%\n",
      "precision: 52.07%\n",
      "(206, 10) (206, 10)\n",
      "[20:46:20] WARNING: ../src/learner.cc:1115: Starting in XGBoost 1.3.0, the default evaluation metric used with the objective 'binary:logistic' was changed from 'error' to 'logloss'. Explicitly set eval_metric if you'd like to restore the old behavior.\n",
      "Classification results:\n",
      "f1: 68.18%\n",
      "roc: 81.51%\n",
      "recall: 89.07%\n",
      "precision: 55.23%\n",
      "(240, 10) (240, 10)\n",
      "[20:46:20] WARNING: ../src/learner.cc:1115: Starting in XGBoost 1.3.0, the default evaluation metric used with the objective 'binary:logistic' was changed from 'error' to 'logloss'. Explicitly set eval_metric if you'd like to restore the old behavior.\n",
      "Classification results:\n",
      "f1: 70.21%\n",
      "roc: 83.93%\n",
      "recall: 92.60%\n",
      "precision: 56.54%\n",
      "(274, 10) (274, 10)\n",
      "[20:46:20] WARNING: ../src/learner.cc:1115: Starting in XGBoost 1.3.0, the default evaluation metric used with the objective 'binary:logistic' was changed from 'error' to 'logloss'. Explicitly set eval_metric if you'd like to restore the old behavior.\n",
      "Classification results:\n",
      "f1: 69.69%\n",
      "roc: 84.25%\n",
      "recall: 90.26%\n",
      "precision: 56.76%\n",
      "(308, 10) (308, 10)\n",
      "[20:46:20] WARNING: ../src/learner.cc:1115: Starting in XGBoost 1.3.0, the default evaluation metric used with the objective 'binary:logistic' was changed from 'error' to 'logloss'. Explicitly set eval_metric if you'd like to restore the old behavior.\n",
      "Classification results:\n",
      "f1: 68.97%\n",
      "roc: 86.34%\n",
      "recall: 96.76%\n",
      "precision: 53.58%\n",
      "(343, 10) (343, 10)\n",
      "[20:46:20] WARNING: ../src/learner.cc:1115: Starting in XGBoost 1.3.0, the default evaluation metric used with the objective 'binary:logistic' was changed from 'error' to 'logloss'. Explicitly set eval_metric if you'd like to restore the old behavior.\n",
      "Classification results:\n",
      "f1: 70.15%\n",
      "roc: 87.01%\n",
      "recall: 93.07%\n",
      "precision: 56.29%\n",
      "(377, 10) (377, 10)\n",
      "[20:46:20] WARNING: ../src/learner.cc:1115: Starting in XGBoost 1.3.0, the default evaluation metric used with the objective 'binary:logistic' was changed from 'error' to 'logloss'. Explicitly set eval_metric if you'd like to restore the old behavior.\n",
      "Classification results:\n",
      "f1: 66.76%\n",
      "roc: 87.63%\n",
      "recall: 97.02%\n",
      "precision: 50.89%\n",
      "(411, 10) (411, 10)\n",
      "[20:46:21] WARNING: ../src/learner.cc:1115: Starting in XGBoost 1.3.0, the default evaluation metric used with the objective 'binary:logistic' was changed from 'error' to 'logloss'. Explicitly set eval_metric if you'd like to restore the old behavior.\n",
      "Classification results:\n",
      "f1: 68.52%\n",
      "roc: 89.64%\n",
      "recall: 99.06%\n",
      "precision: 52.37%\n",
      "(445, 10) (445, 10)\n",
      "[20:46:21] WARNING: ../src/learner.cc:1115: Starting in XGBoost 1.3.0, the default evaluation metric used with the objective 'binary:logistic' was changed from 'error' to 'logloss'. Explicitly set eval_metric if you'd like to restore the old behavior.\n",
      "Classification results:\n",
      "f1: 66.94%\n",
      "roc: 90.61%\n",
      "recall: 98.21%\n",
      "precision: 50.77%\n",
      "(479, 10) (479, 10)\n",
      "[20:46:21] WARNING: ../src/learner.cc:1115: Starting in XGBoost 1.3.0, the default evaluation metric used with the objective 'binary:logistic' was changed from 'error' to 'logloss'. Explicitly set eval_metric if you'd like to restore the old behavior.\n",
      "Classification results:\n",
      "f1: 70.56%\n",
      "roc: 92.94%\n",
      "recall: 97.79%\n",
      "precision: 55.19%\n",
      "(514, 10) (514, 10)\n",
      "[20:46:21] WARNING: ../src/learner.cc:1115: Starting in XGBoost 1.3.0, the default evaluation metric used with the objective 'binary:logistic' was changed from 'error' to 'logloss'. Explicitly set eval_metric if you'd like to restore the old behavior.\n",
      "Classification results:\n",
      "f1: 63.25%\n",
      "roc: 92.13%\n",
      "recall: 98.13%\n",
      "precision: 46.67%\n",
      "(548, 10) (548, 10)\n",
      "[20:46:21] WARNING: ../src/learner.cc:1115: Starting in XGBoost 1.3.0, the default evaluation metric used with the objective 'binary:logistic' was changed from 'error' to 'logloss'. Explicitly set eval_metric if you'd like to restore the old behavior.\n",
      "Classification results:\n",
      "f1: 62.15%\n",
      "roc: 92.56%\n",
      "recall: 96.30%\n",
      "precision: 45.88%\n",
      "(582, 10) (582, 10)\n",
      "[20:46:21] WARNING: ../src/learner.cc:1115: Starting in XGBoost 1.3.0, the default evaluation metric used with the objective 'binary:logistic' was changed from 'error' to 'logloss'. Explicitly set eval_metric if you'd like to restore the old behavior.\n",
      "Classification results:\n",
      "f1: 61.47%\n",
      "roc: 94.54%\n",
      "recall: 100.00%\n",
      "precision: 44.37%\n",
      "(616, 10) (616, 10)\n",
      "[20:46:22] WARNING: ../src/learner.cc:1115: Starting in XGBoost 1.3.0, the default evaluation metric used with the objective 'binary:logistic' was changed from 'error' to 'logloss'. Explicitly set eval_metric if you'd like to restore the old behavior.\n",
      "Classification results:\n",
      "f1: 54.70%\n",
      "roc: 96.40%\n",
      "recall: 100.00%\n",
      "precision: 37.65%\n",
      "(650, 10) (650, 10)\n",
      "[20:46:22] WARNING: ../src/learner.cc:1115: Starting in XGBoost 1.3.0, the default evaluation metric used with the objective 'binary:logistic' was changed from 'error' to 'logloss'. Explicitly set eval_metric if you'd like to restore the old behavior.\n",
      "Classification results:\n",
      "f1: 44.00%\n",
      "roc: 95.87%\n",
      "recall: 100.00%\n",
      "precision: 28.21%\n"
     ]
    }
   ],
   "source": [
    "fractions = np.arange(0.1, 1, 0.05)\n",
    "\n",
    "for fraction in fractions:\n",
    "    f1, roc, rec, prc = random_negative_sampling(data, positive_fraction=fraction)\n",
    "    results = results.append({'model': 'XGBClassifier pos_fraction='+str(fraction)[:4],\n",
    "                'f1': f1,\n",
    "                'roc_auc': roc,\n",
    "                'recall': rec,\n",
    "                'precision': prc}, ignore_index=True)"
   ]
  },
  {
   "cell_type": "code",
   "execution_count": 14,
   "metadata": {},
   "outputs": [
    {
     "data": {
      "text/html": [
       "<div>\n",
       "<style scoped>\n",
       "    .dataframe tbody tr th:only-of-type {\n",
       "        vertical-align: middle;\n",
       "    }\n",
       "\n",
       "    .dataframe tbody tr th {\n",
       "        vertical-align: top;\n",
       "    }\n",
       "\n",
       "    .dataframe thead th {\n",
       "        text-align: right;\n",
       "    }\n",
       "</style>\n",
       "<table border=\"1\" class=\"dataframe\">\n",
       "  <thead>\n",
       "    <tr style=\"text-align: right;\">\n",
       "      <th></th>\n",
       "      <th>model</th>\n",
       "      <th>f1</th>\n",
       "      <th>roc_auc</th>\n",
       "      <th>recall</th>\n",
       "      <th>precision</th>\n",
       "    </tr>\n",
       "  </thead>\n",
       "  <tbody>\n",
       "    <tr>\n",
       "      <th>0</th>\n",
       "      <td>XGBClassifier</td>\n",
       "      <td>0.949074</td>\n",
       "      <td>0.965216</td>\n",
       "      <td>0.971564</td>\n",
       "      <td>0.927602</td>\n",
       "    </tr>\n",
       "    <tr>\n",
       "      <th>1</th>\n",
       "      <td>XGBClassifier pos_fraction=0.1</td>\n",
       "      <td>0.645601</td>\n",
       "      <td>0.744833</td>\n",
       "      <td>0.886054</td>\n",
       "      <td>0.507797</td>\n",
       "    </tr>\n",
       "    <tr>\n",
       "      <th>2</th>\n",
       "      <td>XGBClassifier pos_fraction=0.15</td>\n",
       "      <td>0.638211</td>\n",
       "      <td>0.745829</td>\n",
       "      <td>0.857923</td>\n",
       "      <td>0.508091</td>\n",
       "    </tr>\n",
       "    <tr>\n",
       "      <th>3</th>\n",
       "      <td>XGBClassifier pos_fraction=0.20</td>\n",
       "      <td>0.652471</td>\n",
       "      <td>0.770428</td>\n",
       "      <td>0.854582</td>\n",
       "      <td>0.527675</td>\n",
       "    </tr>\n",
       "    <tr>\n",
       "      <th>4</th>\n",
       "      <td>XGBClassifier pos_fraction=0.25</td>\n",
       "      <td>0.660828</td>\n",
       "      <td>0.792504</td>\n",
       "      <td>0.904139</td>\n",
       "      <td>0.520703</td>\n",
       "    </tr>\n",
       "    <tr>\n",
       "      <th>5</th>\n",
       "      <td>XGBClassifier pos_fraction=0.30</td>\n",
       "      <td>0.681818</td>\n",
       "      <td>0.815120</td>\n",
       "      <td>0.890736</td>\n",
       "      <td>0.552283</td>\n",
       "    </tr>\n",
       "    <tr>\n",
       "      <th>6</th>\n",
       "      <td>XGBClassifier pos_fraction=0.35</td>\n",
       "      <td>0.702128</td>\n",
       "      <td>0.839340</td>\n",
       "      <td>0.926020</td>\n",
       "      <td>0.565421</td>\n",
       "    </tr>\n",
       "    <tr>\n",
       "      <th>7</th>\n",
       "      <td>XGBClassifier pos_fraction=0.40</td>\n",
       "      <td>0.696903</td>\n",
       "      <td>0.842495</td>\n",
       "      <td>0.902579</td>\n",
       "      <td>0.567568</td>\n",
       "    </tr>\n",
       "    <tr>\n",
       "      <th>8</th>\n",
       "      <td>XGBClassifier pos_fraction=0.45</td>\n",
       "      <td>0.689735</td>\n",
       "      <td>0.863354</td>\n",
       "      <td>0.967638</td>\n",
       "      <td>0.535842</td>\n",
       "    </tr>\n",
       "    <tr>\n",
       "      <th>9</th>\n",
       "      <td>XGBClassifier pos_fraction=0.50</td>\n",
       "      <td>0.701513</td>\n",
       "      <td>0.870136</td>\n",
       "      <td>0.930657</td>\n",
       "      <td>0.562914</td>\n",
       "    </tr>\n",
       "    <tr>\n",
       "      <th>10</th>\n",
       "      <td>XGBClassifier pos_fraction=0.55</td>\n",
       "      <td>0.667643</td>\n",
       "      <td>0.876303</td>\n",
       "      <td>0.970213</td>\n",
       "      <td>0.508929</td>\n",
       "    </tr>\n",
       "    <tr>\n",
       "      <th>11</th>\n",
       "      <td>XGBClassifier pos_fraction=0.60</td>\n",
       "      <td>0.685155</td>\n",
       "      <td>0.896422</td>\n",
       "      <td>0.990566</td>\n",
       "      <td>0.523691</td>\n",
       "    </tr>\n",
       "    <tr>\n",
       "      <th>12</th>\n",
       "      <td>XGBClassifier pos_fraction=0.65</td>\n",
       "      <td>0.669371</td>\n",
       "      <td>0.906146</td>\n",
       "      <td>0.982143</td>\n",
       "      <td>0.507692</td>\n",
       "    </tr>\n",
       "    <tr>\n",
       "      <th>13</th>\n",
       "      <td>XGBClassifier pos_fraction=0.70</td>\n",
       "      <td>0.705570</td>\n",
       "      <td>0.929368</td>\n",
       "      <td>0.977941</td>\n",
       "      <td>0.551867</td>\n",
       "    </tr>\n",
       "    <tr>\n",
       "      <th>14</th>\n",
       "      <td>XGBClassifier pos_fraction=0.75</td>\n",
       "      <td>0.632530</td>\n",
       "      <td>0.921290</td>\n",
       "      <td>0.981308</td>\n",
       "      <td>0.466667</td>\n",
       "    </tr>\n",
       "    <tr>\n",
       "      <th>15</th>\n",
       "      <td>XGBClassifier pos_fraction=0.80</td>\n",
       "      <td>0.621514</td>\n",
       "      <td>0.925588</td>\n",
       "      <td>0.962963</td>\n",
       "      <td>0.458824</td>\n",
       "    </tr>\n",
       "    <tr>\n",
       "      <th>16</th>\n",
       "      <td>XGBClassifier pos_fraction=0.85</td>\n",
       "      <td>0.614679</td>\n",
       "      <td>0.945384</td>\n",
       "      <td>1.000000</td>\n",
       "      <td>0.443709</td>\n",
       "    </tr>\n",
       "    <tr>\n",
       "      <th>17</th>\n",
       "      <td>XGBClassifier pos_fraction=0.90</td>\n",
       "      <td>0.547009</td>\n",
       "      <td>0.963995</td>\n",
       "      <td>1.000000</td>\n",
       "      <td>0.376471</td>\n",
       "    </tr>\n",
       "    <tr>\n",
       "      <th>18</th>\n",
       "      <td>XGBClassifier pos_fraction=0.95</td>\n",
       "      <td>0.440000</td>\n",
       "      <td>0.958702</td>\n",
       "      <td>1.000000</td>\n",
       "      <td>0.282051</td>\n",
       "    </tr>\n",
       "  </tbody>\n",
       "</table>\n",
       "</div>"
      ],
      "text/plain": [
       "                              model        f1   roc_auc    recall  precision\n",
       "0                     XGBClassifier  0.949074  0.965216  0.971564   0.927602\n",
       "1    XGBClassifier pos_fraction=0.1  0.645601  0.744833  0.886054   0.507797\n",
       "2   XGBClassifier pos_fraction=0.15  0.638211  0.745829  0.857923   0.508091\n",
       "3   XGBClassifier pos_fraction=0.20  0.652471  0.770428  0.854582   0.527675\n",
       "4   XGBClassifier pos_fraction=0.25  0.660828  0.792504  0.904139   0.520703\n",
       "5   XGBClassifier pos_fraction=0.30  0.681818  0.815120  0.890736   0.552283\n",
       "6   XGBClassifier pos_fraction=0.35  0.702128  0.839340  0.926020   0.565421\n",
       "7   XGBClassifier pos_fraction=0.40  0.696903  0.842495  0.902579   0.567568\n",
       "8   XGBClassifier pos_fraction=0.45  0.689735  0.863354  0.967638   0.535842\n",
       "9   XGBClassifier pos_fraction=0.50  0.701513  0.870136  0.930657   0.562914\n",
       "10  XGBClassifier pos_fraction=0.55  0.667643  0.876303  0.970213   0.508929\n",
       "11  XGBClassifier pos_fraction=0.60  0.685155  0.896422  0.990566   0.523691\n",
       "12  XGBClassifier pos_fraction=0.65  0.669371  0.906146  0.982143   0.507692\n",
       "13  XGBClassifier pos_fraction=0.70  0.705570  0.929368  0.977941   0.551867\n",
       "14  XGBClassifier pos_fraction=0.75  0.632530  0.921290  0.981308   0.466667\n",
       "15  XGBClassifier pos_fraction=0.80  0.621514  0.925588  0.962963   0.458824\n",
       "16  XGBClassifier pos_fraction=0.85  0.614679  0.945384  1.000000   0.443709\n",
       "17  XGBClassifier pos_fraction=0.90  0.547009  0.963995  1.000000   0.376471\n",
       "18  XGBClassifier pos_fraction=0.95  0.440000  0.958702  1.000000   0.282051"
      ]
     },
     "execution_count": 14,
     "metadata": {},
     "output_type": "execute_result"
    }
   ],
   "source": [
    "results"
   ]
  },
  {
   "cell_type": "code",
   "execution_count": 15,
   "metadata": {},
   "outputs": [],
   "source": [
    "import matplotlib.pyplot as plt"
   ]
  },
  {
   "cell_type": "code",
   "execution_count": 16,
   "metadata": {},
   "outputs": [
    {
     "data": {
      "image/png": "[encoded data removed]",
      "text/plain": [
       "<Figure size 720x360 with 1 Axes>"
      ]
     },
     "metadata": {
      "needs_background": "light"
     },
     "output_type": "display_data"
    }
   ],
   "source": [
    "plt.figure(figsize=(10, 5))\n",
    "\n",
    "plt.grid(axis='both')\n",
    "plt.title('F1 score Random negative sampling')\n",
    "plt.xticks(ticks=np.arange(18), labels=np.round(fractions,2))\n",
    "plt.xlabel('Positive fraction')\n",
    "plt.ylabel('F1 score')\n",
    "\n",
    "plt.plot(list(results['f1'][1:]), c='darkgreen');\n"
   ]
  },
  {
   "cell_type": "markdown",
   "metadata": {},
   "source": [
    "Даже имея 10% от наших позитивных случаев, мы получаем неплохой f1 score. На графике видно, что наилучших результатов мы достигаем около 35-50%, далее происходит резкое ухудшение модели."
   ]
  }
 ],
 "metadata": {
  "kernelspec": {
   "display_name": "Python 3",
   "language": "python",
   "name": "python3"
  },
  "language_info": {
   "codemirror_mode": {
    "name": "ipython",
    "version": 3
   },
   "file_extension": ".py",
   "mimetype": "text/x-python",
   "name": "python",
   "nbconvert_exporter": "python",
   "pygments_lexer": "ipython3",
   "version": "3.8.10"
  }
 },
 "nbformat": 4,
 "nbformat_minor": 2
}
