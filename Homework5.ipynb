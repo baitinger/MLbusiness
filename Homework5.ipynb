{
 "cells": [
  {
   "cell_type": "code",
   "execution_count": 11,
   "id": "b455f51d",
   "metadata": {},
   "outputs": [],
   "source": [
    "import pandas as pd\n",
    "import numpy as np\n",
    "from sklearn.pipeline import Pipeline, make_pipeline, FeatureUnion\n",
    "from sklearn.base import BaseEstimator, TransformerMixin\n",
    "from sklearn.model_selection import GridSearchCV\n",
    "from sklearn.linear_model import LogisticRegression\n",
    "from catboost import CatBoostClassifier\n",
    "from sklearn.ensemble import RandomForestClassifier, AdaBoostClassifier\n",
    "from sklearn.model_selection import train_test_split\n",
    "from sklearn.metrics import f1_score, roc_auc_score, precision_score, classification_report, precision_recall_curve, confusion_matrix\n",
    "from sklearn.preprocessing import MinMaxScaler, StandardScaler\n",
    "import itertools\n",
    "import warnings\n",
    "warnings.filterwarnings('ignore')\n",
    "\n",
    "import matplotlib.pyplot as plt\n",
    "\n",
    "%matplotlib inline"
   ]
  },
  {
   "cell_type": "code",
   "execution_count": 2,
   "id": "14f328e5",
   "metadata": {},
   "outputs": [],
   "source": [
    "df = pd.read_csv(\"churn_data.csv\")\n",
    "data = df.copy()"
   ]
  },
  {
   "cell_type": "code",
   "execution_count": 3,
   "id": "a3d1a48d",
   "metadata": {},
   "outputs": [],
   "source": [
    "categorical = ['Geography', 'Gender', 'HasCrCard', 'IsActiveMember']\n",
    "to_drop = ['RowNumber', 'CustomerId', 'Surname', 'Exited']\n",
    "continuous = ['CreditScore', 'Age', 'Balance', 'Tenure', 'NumOfProducts', 'EstimatedSalary']"
   ]
  },
  {
   "cell_type": "code",
   "execution_count": 4,
   "id": "bfdda756",
   "metadata": {},
   "outputs": [],
   "source": [
    "def prepare_data(X):\n",
    "    \n",
    "    y = X['Exited'] # таргет\n",
    "    \n",
    "    # определяем вещественный и категориальные фичи, а так же те, котороые мы будем дропать\n",
    "    categorical = ['Geography', 'Gender', 'HasCrCard', 'IsActiveMember']\n",
    "    to_drop = ['RowNumber', 'CustomerId', 'Surname', 'Exited']\n",
    "    continuous = ['CreditScore', 'Age', 'Balance', 'Tenure', 'NumOfProducts', 'EstimatedSalary']\n",
    "    \n",
    "    X.drop(columns=to_drop, inplace=True)\n",
    "    \n",
    "    # OneHotEncoding для категорий:\n",
    "    for col in categorical:\n",
    "        to_add = pd.get_dummies(X[col], prefix=col)\n",
    "        for column in to_add.columns:\n",
    "            X[column] = to_add[column]\n",
    "        X.drop(columns=col, inplace=True)\n",
    "    \n",
    "    return X, y"
   ]
  },
  {
   "cell_type": "code",
   "execution_count": 5,
   "id": "6dac731e",
   "metadata": {},
   "outputs": [],
   "source": [
    "X, y = prepare_data(data)"
   ]
  },
  {
   "cell_type": "markdown",
   "id": "9ef266df",
   "metadata": {},
   "source": [
    "Разбиваем на тренировочный и валидационный датасеты"
   ]
  },
  {
   "cell_type": "code",
   "execution_count": 6,
   "id": "93d9a443",
   "metadata": {},
   "outputs": [],
   "source": [
    "X_train, X_test, y_train, y_test = train_test_split(X, y, test_size=0.25, random_state=0)"
   ]
  },
  {
   "cell_type": "markdown",
   "id": "2dbc79ba",
   "metadata": {},
   "source": [
    "Применяем стандартизацию"
   ]
  },
  {
   "cell_type": "code",
   "execution_count": 7,
   "id": "10a1b478",
   "metadata": {},
   "outputs": [],
   "source": [
    "scaler = StandardScaler()\n",
    "X_train[continuous] = scaler.fit_transform(X_train[continuous])\n",
    "X_test[continuous] = scaler.transform(X_test[continuous])"
   ]
  },
  {
   "cell_type": "markdown",
   "id": "382166ae",
   "metadata": {},
   "source": [
    "Тестируем разные модели:"
   ]
  },
  {
   "cell_type": "code",
   "execution_count": 51,
   "id": "9e23cfdc",
   "metadata": {
    "scrolled": true
   },
   "outputs": [
    {
     "data": {
      "text/html": [
       "<div>\n",
       "<style scoped>\n",
       "    .dataframe tbody tr th:only-of-type {\n",
       "        vertical-align: middle;\n",
       "    }\n",
       "\n",
       "    .dataframe tbody tr th {\n",
       "        vertical-align: top;\n",
       "    }\n",
       "\n",
       "    .dataframe thead th {\n",
       "        text-align: right;\n",
       "    }\n",
       "</style>\n",
       "<table border=\"1\" class=\"dataframe\">\n",
       "  <thead>\n",
       "    <tr style=\"text-align: right;\">\n",
       "      <th></th>\n",
       "      <th>Model</th>\n",
       "      <th>TP</th>\n",
       "      <th>FP</th>\n",
       "      <th>Precision</th>\n",
       "      <th>Recall</th>\n",
       "      <th>Fscore</th>\n",
       "      <th>Model_profit</th>\n",
       "    </tr>\n",
       "  </thead>\n",
       "  <tbody>\n",
       "    <tr>\n",
       "      <th>0</th>\n",
       "      <td>LogisticRegression</td>\n",
       "      <td>319</td>\n",
       "      <td>437</td>\n",
       "      <td>0.422721</td>\n",
       "      <td>0.628684</td>\n",
       "      <td>0.505529</td>\n",
       "      <td>-118</td>\n",
       "    </tr>\n",
       "    <tr>\n",
       "      <th>1</th>\n",
       "      <td>&lt;catboost.core.CatBoostClassifier object at 0x...</td>\n",
       "      <td>310</td>\n",
       "      <td>150</td>\n",
       "      <td>0.674620</td>\n",
       "      <td>0.611002</td>\n",
       "      <td>0.641237</td>\n",
       "      <td>160</td>\n",
       "    </tr>\n",
       "    <tr>\n",
       "      <th>2</th>\n",
       "      <td>RandomForestClassifier</td>\n",
       "      <td>288</td>\n",
       "      <td>108</td>\n",
       "      <td>0.723716</td>\n",
       "      <td>0.581532</td>\n",
       "      <td>0.644880</td>\n",
       "      <td>180</td>\n",
       "    </tr>\n",
       "    <tr>\n",
       "      <th>3</th>\n",
       "      <td>AdaBoostClassifier</td>\n",
       "      <td>279</td>\n",
       "      <td>110</td>\n",
       "      <td>0.717949</td>\n",
       "      <td>0.550098</td>\n",
       "      <td>0.622914</td>\n",
       "      <td>169</td>\n",
       "    </tr>\n",
       "  </tbody>\n",
       "</table>\n",
       "</div>"
      ],
      "text/plain": [
       "                                               Model   TP   FP  Precision  \\\n",
       "0                                 LogisticRegression  319  437   0.422721   \n",
       "1  <catboost.core.CatBoostClassifier object at 0x...  310  150   0.674620   \n",
       "2                             RandomForestClassifier  288  108   0.723716   \n",
       "3                                 AdaBoostClassifier  279  110   0.717949   \n",
       "\n",
       "     Recall    Fscore Model_profit  \n",
       "0  0.628684  0.505529         -118  \n",
       "1  0.611002  0.641237          160  \n",
       "2  0.581532  0.644880          180  \n",
       "3  0.550098  0.622914          169  "
      ]
     },
     "execution_count": 51,
     "metadata": {},
     "output_type": "execute_result"
    }
   ],
   "source": [
    "lr = LogisticRegression()\n",
    "cat = CatBoostClassifier(silent=True)\n",
    "rf = RandomForestClassifier()\n",
    "ada = AdaBoostClassifier()\n",
    "\n",
    "models = [lr, cat, rf, ada] # создаем список из моделей\n",
    "\n",
    "results = pd.DataFrame(columns=['Model', 'TP', 'FP', 'Precision', 'Recall', 'Fscore', 'Model_profit'])\n",
    "\n",
    "for model in models:\n",
    "    model.fit(X_train, y_train)\n",
    "    preds = model.predict_proba(X_test)[:, 1]\n",
    "    \n",
    "    precision, recall, thresholds = precision_recall_curve(y_test, preds)\n",
    "\n",
    "    beta = 1 # создаем переменную бета, которую используем для подсчета fscore. \n",
    "            \n",
    "    fscore = ((1 + beta**2) * precision * recall) / (beta**2 * precision + recall)\n",
    "    ix = np.argmax(fscore)\n",
    "    \n",
    "    tn, fp, fn, tp = confusion_matrix(y_test, preds>thresholds[ix]).ravel()\n",
    "    \n",
    "    # считаем прибыль от модели. 2 доллара за TP, и вычитаем расходы в 1 доллар на все Positive predictions.   \n",
    "    profit_from_model = 2*tp - (fp + tp) \n",
    "    \n",
    "    results = results.append({'Model': str(model).split(\"(\")[0], \n",
    "                              'TP': tp,\n",
    "                              'FP': fp,\n",
    "                              'Precision': precision[ix], \n",
    "                              'Recall': recall[ix],\n",
    "                              'Fscore': fscore[ix],\n",
    "                              'Model_profit': profit_from_model}, ignore_index=True)\n",
    "\n",
    "results"
   ]
  },
  {
   "cell_type": "markdown",
   "id": "2b428add",
   "metadata": {},
   "source": [
    "Логистическая регрессия убыточна, остальные модели держатся примерно на одном уровне, но возьмем RandomForest для дальнейшего изучения. Заметно, что у RF самый большой профит, а так же самый большой Precision. Поэтому будем обращать особое внимание на Precision, так как эта метрика является ключевой для решения этой задачи. Однако, это не значит, что нам нужно обучать модель до состояния Precision = 1, нам нужно выбрать такой F-score, в котором Precision будет иметь чуть больший вес, а значит далее при расчетах fscore возьмем beta=0.5 и будем оринетироваться не на F1 score, а на F0.5 score."
   ]
  },
  {
   "cell_type": "code",
   "execution_count": 49,
   "id": "71d74bb3",
   "metadata": {},
   "outputs": [],
   "source": [
    "tuned_results = pd.DataFrame(columns=['n_estimators', \n",
    "                                      'min_samples_leaf',\n",
    "                                      'max_depth',\n",
    "                                      'TP', \n",
    "                                      'FP', \n",
    "                                      'Precision', \n",
    "                                      'Recall', \n",
    "                                      'Fscore', \n",
    "                                      'Model_profit'])\n",
    "\n",
    "# поищем наилучшие параметры для случайного леса:\n",
    "n_estimators = [300, 400, 500, 600, 700]\n",
    "min_samples_leaf = [1, 2, 3, 4, 5]\n",
    "max_depth = [6, 7, 8, 9]\n",
    "\n",
    "for estimator in n_estimators:\n",
    "    for leaf in min_samples_leaf:\n",
    "        for depth in max_depth:\n",
    "            rf_tuned = RandomForestClassifier(max_depth=depth, min_samples_leaf=leaf, n_estimators=estimator)\n",
    "\n",
    "            rf_tuned.fit(X_train, y_train)\n",
    "            preds = rf_tuned.predict_proba(X_test)[:, 1]\n",
    "\n",
    "            precision, recall, thresholds = precision_recall_curve(y_test, preds)\n",
    "            \n",
    "            beta = 0.5 # устанавливаем 0.5, таким образом увеличивая важность precision.\n",
    "            \n",
    "            fscore = ( (1 + beta**2) * precision * recall) / (beta**2 * precision + recall)\n",
    "            ix = np.argmax(fscore)\n",
    "\n",
    "            tn, fp, fn, tp = confusion_matrix(y_test, preds>thresholds[ix]).ravel()\n",
    "\n",
    "            profit_from_model = 2*tp - (fp + tp)\n",
    "\n",
    "            tuned_results = tuned_results.append({'n_estimators': estimator, \n",
    "                                                  'min_samples_leaf': leaf,\n",
    "                                                  'max_depth': depth,\n",
    "                                                  'TP': tp,\n",
    "                                                  'FP': fp,\n",
    "                                                  'Precision': precision[ix], \n",
    "                                                  'Recall': recall[ix],\n",
    "                                                  'Fscore': fscore[ix],\n",
    "                                                  'Model_profit': profit_from_model}, ignore_index=True)"
   ]
  },
  {
   "cell_type": "code",
   "execution_count": 50,
   "id": "614cf70a",
   "metadata": {},
   "outputs": [
    {
     "data": {
      "text/html": [
       "<div>\n",
       "<style scoped>\n",
       "    .dataframe tbody tr th:only-of-type {\n",
       "        vertical-align: middle;\n",
       "    }\n",
       "\n",
       "    .dataframe tbody tr th {\n",
       "        vertical-align: top;\n",
       "    }\n",
       "\n",
       "    .dataframe thead th {\n",
       "        text-align: right;\n",
       "    }\n",
       "</style>\n",
       "<table border=\"1\" class=\"dataframe\">\n",
       "  <thead>\n",
       "    <tr style=\"text-align: right;\">\n",
       "      <th></th>\n",
       "      <th>n_estimators</th>\n",
       "      <th>min_samples_leaf</th>\n",
       "      <th>max_depth</th>\n",
       "      <th>TP</th>\n",
       "      <th>FP</th>\n",
       "      <th>Precision</th>\n",
       "      <th>Recall</th>\n",
       "      <th>Fscore</th>\n",
       "      <th>Model_profit</th>\n",
       "    </tr>\n",
       "  </thead>\n",
       "  <tbody>\n",
       "    <tr>\n",
       "      <th>46</th>\n",
       "      <td>500.0</td>\n",
       "      <td>2.0</td>\n",
       "      <td>8.0</td>\n",
       "      <td>246.0</td>\n",
       "      <td>51.0</td>\n",
       "      <td>0.828859</td>\n",
       "      <td>0.485265</td>\n",
       "      <td>0.726044</td>\n",
       "      <td>195.0</td>\n",
       "    </tr>\n",
       "  </tbody>\n",
       "</table>\n",
       "</div>"
      ],
      "text/plain": [
       "    n_estimators  min_samples_leaf  max_depth     TP    FP  Precision  \\\n",
       "46         500.0               2.0        8.0  246.0  51.0   0.828859   \n",
       "\n",
       "      Recall    Fscore  Model_profit  \n",
       "46  0.485265  0.726044         195.0  "
      ]
     },
     "execution_count": 50,
     "metadata": {},
     "output_type": "execute_result"
    }
   ],
   "source": [
    "# сортируем по профиту\n",
    "tuned_results.sort_values(by='Model_profit', ascending=False).head(1)"
   ]
  },
  {
   "cell_type": "markdown",
   "id": "ddef432d",
   "metadata": {},
   "source": [
    "Наилучшая модель с параметрами выдает профит в 195. Видим, что Precision на высоком уровне, Recall гораздо ниже, но для того, чтобы решить именно задачу максимального профита, мы максимизируем Precision. "
   ]
  }
 ],
 "metadata": {
  "kernelspec": {
   "display_name": "Python 3",
   "language": "python",
   "name": "python3"
  },
  "language_info": {
   "codemirror_mode": {
    "name": "ipython",
    "version": 3
   },
   "file_extension": ".py",
   "mimetype": "text/x-python",
   "name": "python",
   "nbconvert_exporter": "python",
   "pygments_lexer": "ipython3",
   "version": "3.8.10"
  }
 },
 "nbformat": 4,
 "nbformat_minor": 5
}
